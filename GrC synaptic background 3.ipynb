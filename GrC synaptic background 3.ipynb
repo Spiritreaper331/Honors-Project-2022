{
 "cells": [
  {
   "cell_type": "code",
   "execution_count": 1,
   "source": [
    "from neuron import h\n",
    "from Cereb_GrC_regular import Grc_regular\n",
    "import multiprocessing\n",
    "import numpy as np\n",
    "import matplotlib.pyplot as plt"
   ],
   "outputs": [],
   "metadata": {}
  },
  {
   "cell_type": "code",
   "execution_count": null,
   "source": [
    "subtype = \"adapting\"\n",
    "cell = Grc_regular(subtype)\n",
    "time_step = h.CVode()\n",
    "time_step.active(0) #0 fixed step, 1 variable time step"
   ],
   "outputs": [],
   "metadata": {}
  },
  {
   "cell_type": "code",
   "execution_count": null,
   "source": [
    "cpu = multiprocessing.cpu_count() //2\n",
    "h.load_file(\"parcom.hoc\")\n",
    "p = h.ParallelComputeTool()\n",
    "if cpu > 8:\n",
    "    p.change_nthread(8,1)\n",
    "    print('Maximum 8 threads')\n",
    "else:\n",
    "    p.change_nthread(cpu,1)    \n",
    "    print('N° of treads', cpu)\n",
    "p.multisplit(1)"
   ],
   "outputs": [],
   "metadata": {}
  },
  {
   "cell_type": "code",
   "execution_count": null,
   "source": [
    "stimdata = dict()\n",
    "stimdata['timeglobal'] =  2500\n",
    "synapsesdata = dict()\n",
    "#number of AMPA syn, NMDA syn, dend number from 0 to 3\n",
    "cell.createsyn(1, 1, [0,1], [0,1])\n",
    "#Mossy syn\n",
    "spk_stim_mossy = []"
   ],
   "outputs": [],
   "metadata": {}
  },
  {
   "cell_type": "code",
   "execution_count": null,
   "source": [
    "for protocol_name, frequency in [('step1', 200), ('step2', 100), ('step3', 50), ('step4', 25), ('step5', 16.6), ('step6', 12.5)]:\n",
    "    spk_stim = h.NetStim()\n",
    "    spk_stim.interval = frequency\n",
    "    spk_stim.number = int(1000/frequency)\n",
    "    spk_stim.noise = 0\n",
    "    spk_stim.start = 100\n",
    "\n",
    "    spk_stim_2 = h.NetStim()        \n",
    "    spk_stim_2.interval = 10\n",
    "    spk_stim_2.number = 25\n",
    "    spk_stim_2.noise = 0\n",
    "    spk_stim_2.start = 1100\n",
    "\n",
    "    spk_stim_3 = h.NetStim()\n",
    "    spk_stim_3.interval = frequency\n",
    "    spk_stim_3.number = int(1000/frequency)\n",
    "    spk_stim_3.noise = 0\n",
    "    spk_stim_3.start = 1350\n",
    "\n",
    "    spk_stim_4 = h.NetStim()        \n",
    "    spk_stim_4.interval = 10\n",
    "    spk_stim_4.number = 25\n",
    "    spk_stim_4.noise = 0\n",
    "    spk_stim_4.start = 2350        \n",
    "    \n",
    "    \n",
    "    spk_stim_mossy.append(spk_stim)\n",
    "    spk_stim_mossy.append(spk_stim_2)\n",
    "    spk_stim_mossy.append(spk_stim_3)\n",
    "    spk_stim_mossy.append(spk_stim_4)\n",
    "    spk_nc_pfsyn = []\n",
    "    spk_nc_pfsyn_nmda = []\n",
    "\n",
    "    for m in range(int(len(spk_stim_mossy))):\t\n",
    "        spk_nc_pfsyn.append([h.NetCon(spk_stim_mossy[m],mossy.input,0,0.1,1) for mossy in cell.MF_GrC])\n",
    "        spk_nc_pfsyn_nmda.append([h.NetCon(spk_stim_mossy[m],mossynmda.input,0,0.1,1) for mossynmda in cell.MF_GrC_mossy])\n",
    "\n",
    "    h.dt = 0.025\n",
    "    h.celsius = 32\n",
    "    h.tstop = stimdata['timeglobal']\n",
    "    h.v_init = -70\n",
    "\n",
    "    def initialize():\n",
    "        h.finitialize()\n",
    "        h.run()\n",
    "        \n",
    "    initialize()\n",
    "    img = plt.plot(np.array(cell.time_vector), np.array(cell.vm_soma))\n",
    "    plt.xlabel(\"Time\")\n",
    "    plt.ylabel(\"Amplitude\")"
   ],
   "outputs": [],
   "metadata": {}
  }
 ],
 "metadata": {
  "orig_nbformat": 4,
  "language_info": {
   "name": "python",
   "version": "3.9.6",
   "mimetype": "text/x-python",
   "codemirror_mode": {
    "name": "ipython",
    "version": 3
   },
   "pygments_lexer": "ipython3",
   "nbconvert_exporter": "python",
   "file_extension": ".py"
  },
  "kernelspec": {
   "name": "python3",
   "display_name": "Python 3.9.6 64-bit"
  },
  "interpreter": {
   "hash": "aee8b7b246df8f9039afb4144a1f6fd8d2ca17a180786b69acc140d282b71a49"
  }
 },
 "nbformat": 4,
 "nbformat_minor": 2
}