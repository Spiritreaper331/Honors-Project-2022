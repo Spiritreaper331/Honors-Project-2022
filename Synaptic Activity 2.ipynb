{
 "cells": [
  {
   "cell_type": "markdown",
   "source": [
    "Morphology 2 Synaptic activity"
   ],
   "metadata": {}
  },
  {
   "cell_type": "code",
   "execution_count": 1,
   "source": [
    "# 04 - Synaptic activity, Parallel fibers, ascending axons, mossy fibers and inibition.\n",
    "import matplotlib.pyplot as plt\n",
    "from neuron import h\n",
    "from Golgi2020_morpho_1 import Golgi_morpho_1\n",
    "import multiprocessing\n",
    "import random as rnd\n",
    "import numpy as np"
   ],
   "outputs": [],
   "metadata": {}
  },
  {
   "cell_type": "code",
   "execution_count": 2,
   "source": [
    "seed = 123456\n",
    "rnd.seed(seed)\n",
    "h.use_mcell_ran4(1)\n",
    "h.mcell_ran4_init(seed)"
   ],
   "outputs": [
    {
     "output_type": "execute_result",
     "data": {
      "text/plain": [
       "0.0"
      ]
     },
     "metadata": {},
     "execution_count": 2
    }
   ],
   "metadata": {}
  },
  {
   "cell_type": "code",
   "execution_count": 3,
   "source": [
    "#Instantiation of the cell template\n",
    "subtype_2 = \"morpho_2\"\n",
    "cell_2 = Golgi_morpho_1(subtype_2)\n",
    "#fixed time step only\n",
    "Fixed_step = h.CVode()\n",
    "Fixed_step.active(0)"
   ],
   "outputs": [
    {
     "output_type": "stream",
     "name": "stdout",
     "text": [
      "\n",
      "5456 lines read\n",
      "\n",
      "morphology/pair-140514-C2-1_split_2.asc problems\n",
      "\n",
      "\n",
      "Main branch starting at line 58 is outside the soma bounding boxes\n",
      "  Making a logical connection to center of nearest soma\n",
      "\n",
      "Main branch starting at line 2375 is outside the soma bounding boxes\n",
      "  Making a logical connection to center of nearest soma\n"
     ]
    },
    {
     "output_type": "execute_result",
     "data": {
      "text/plain": [
       "False"
      ]
     },
     "metadata": {},
     "execution_count": 3
    }
   ],
   "metadata": {}
  },
  {
   "cell_type": "code",
   "execution_count": 4,
   "source": [
    "#this code discover the number of cores available in a CPU and activate the multisplit to use them all.\n",
    "cpu = multiprocessing.cpu_count() // 2\n",
    "h.load_file(\"parcom.hoc\")\n",
    "p = h.ParallelComputeTool()\n",
    "p.change_nthread(cpu,1)\n",
    "p.multisplit(1)\n",
    "stimdata = dict()\n",
    "stimdata['timeglobal'] =  3000"
   ],
   "outputs": [],
   "metadata": {}
  },
  {
   "cell_type": "code",
   "execution_count": 7,
   "source": [
    "#Number of spikes, interval, starting moment and presence of noise\n",
    "synapsesdata = dict()\n",
    "\n",
    "#parallel fiber\n",
    "synapsesdata['syninterval'] = 10\n",
    "synapsesdata['synnumber'] = 5\n",
    "synapsesdata['synstart'] = 1000\n",
    "synapsesdata['synnoise'] = 0\n",
    "\n",
    "#mossy fiber\n",
    "synapsesdata['syninterval_mf'] = 10\n",
    "synapsesdata['synnumber_mf'] = 5\n",
    "synapsesdata['synstart_mf'] = 1000\n",
    "synapsesdata['synnoise_mf'] = 0\n",
    "\n",
    "#ascending axon\n",
    "synapsesdata['syninterval_aa'] = 10\n",
    "synapsesdata['synnumber_aa'] = 5\n",
    "synapsesdata['synstart_aa'] = 1000\n",
    "synapsesdata['synnoise_aa'] = 0\n",
    "\n",
    "#Delay factor to activate two different type of synapses in two different moments.\n",
    "synapsesdata['synpfdelay'] = 0\n",
    "synapsesdata['synmfdelay'] = 0\n",
    "\n",
    "synapsesdata['synaadelay'] = 0\n",
    "synapsesdata['synindelay'] = 0\n",
    "\n",
    "#number of synapses (max used in the paper)\n",
    "pf_syn = 89 #89\n",
    "mf_syn = 0 #20\n",
    "\n",
    "aa_syn = 0 #20\n",
    "inib_syn = 0 #20\n",
    "\n",
    "cell_2.createsyn(pf_syn, mf_syn, aa_syn, subtype_2)"
   ],
   "outputs": [
    {
     "output_type": "stream",
     "name": "stdout",
     "text": [
      "self.dend_pf 128\n",
      "SOURCE TYPE DOES NOT EXIST SOMETHING WRONG!!!!!!!!!\n",
      "SOURCE TYPE DOES NOT EXIST SOMETHING WRONG!!!!!!!!!\n",
      "SOURCE TYPE DOES NOT EXIST SOMETHING WRONG!!!!!!!!!\n",
      "SOURCE TYPE DOES NOT EXIST SOMETHING WRONG!!!!!!!!!\n",
      "SOURCE TYPE DOES NOT EXIST SOMETHING WRONG!!!!!!!!!\n",
      "SOURCE TYPE DOES NOT EXIST SOMETHING WRONG!!!!!!!!!\n",
      "SOURCE TYPE DOES NOT EXIST SOMETHING WRONG!!!!!!!!!\n",
      "SOURCE TYPE DOES NOT EXIST SOMETHING WRONG!!!!!!!!!\n",
      "SOURCE TYPE DOES NOT EXIST SOMETHING WRONG!!!!!!!!!\n",
      "SOURCE TYPE DOES NOT EXIST SOMETHING WRONG!!!!!!!!!\n",
      "SOURCE TYPE DOES NOT EXIST SOMETHING WRONG!!!!!!!!!\n",
      "SOURCE TYPE DOES NOT EXIST SOMETHING WRONG!!!!!!!!!\n",
      "SOURCE TYPE DOES NOT EXIST SOMETHING WRONG!!!!!!!!!\n",
      "SOURCE TYPE DOES NOT EXIST SOMETHING WRONG!!!!!!!!!\n",
      "SOURCE TYPE DOES NOT EXIST SOMETHING WRONG!!!!!!!!!\n",
      "SOURCE TYPE DOES NOT EXIST SOMETHING WRONG!!!!!!!!!\n",
      "SOURCE TYPE DOES NOT EXIST SOMETHING WRONG!!!!!!!!!\n",
      "SOURCE TYPE DOES NOT EXIST SOMETHING WRONG!!!!!!!!!\n",
      "SOURCE TYPE DOES NOT EXIST SOMETHING WRONG!!!!!!!!!\n",
      "SOURCE TYPE DOES NOT EXIST SOMETHING WRONG!!!!!!!!!\n",
      "SOURCE TYPE DOES NOT EXIST SOMETHING WRONG!!!!!!!!!\n",
      "SOURCE TYPE DOES NOT EXIST SOMETHING WRONG!!!!!!!!!\n",
      "SOURCE TYPE DOES NOT EXIST SOMETHING WRONG!!!!!!!!!\n",
      "SOURCE TYPE DOES NOT EXIST SOMETHING WRONG!!!!!!!!!\n",
      "SOURCE TYPE DOES NOT EXIST SOMETHING WRONG!!!!!!!!!\n",
      "SOURCE TYPE DOES NOT EXIST SOMETHING WRONG!!!!!!!!!\n",
      "SOURCE TYPE DOES NOT EXIST SOMETHING WRONG!!!!!!!!!\n",
      "SOURCE TYPE DOES NOT EXIST SOMETHING WRONG!!!!!!!!!\n",
      "SOURCE TYPE DOES NOT EXIST SOMETHING WRONG!!!!!!!!!\n",
      "SOURCE TYPE DOES NOT EXIST SOMETHING WRONG!!!!!!!!!\n",
      "SOURCE TYPE DOES NOT EXIST SOMETHING WRONG!!!!!!!!!\n",
      "SOURCE TYPE DOES NOT EXIST SOMETHING WRONG!!!!!!!!!\n",
      "SOURCE TYPE DOES NOT EXIST SOMETHING WRONG!!!!!!!!!\n",
      "SOURCE TYPE DOES NOT EXIST SOMETHING WRONG!!!!!!!!!\n",
      "SOURCE TYPE DOES NOT EXIST SOMETHING WRONG!!!!!!!!!\n",
      "SOURCE TYPE DOES NOT EXIST SOMETHING WRONG!!!!!!!!!\n",
      "SOURCE TYPE DOES NOT EXIST SOMETHING WRONG!!!!!!!!!\n",
      "SOURCE TYPE DOES NOT EXIST SOMETHING WRONG!!!!!!!!!\n",
      "SOURCE TYPE DOES NOT EXIST SOMETHING WRONG!!!!!!!!!\n",
      "SOURCE TYPE DOES NOT EXIST SOMETHING WRONG!!!!!!!!!\n",
      "SOURCE TYPE DOES NOT EXIST SOMETHING WRONG!!!!!!!!!\n",
      "SOURCE TYPE DOES NOT EXIST SOMETHING WRONG!!!!!!!!!\n",
      "SOURCE TYPE DOES NOT EXIST SOMETHING WRONG!!!!!!!!!\n",
      "SOURCE TYPE DOES NOT EXIST SOMETHING WRONG!!!!!!!!!\n",
      "SOURCE TYPE DOES NOT EXIST SOMETHING WRONG!!!!!!!!!\n",
      "SOURCE TYPE DOES NOT EXIST SOMETHING WRONG!!!!!!!!!\n",
      "SOURCE TYPE DOES NOT EXIST SOMETHING WRONG!!!!!!!!!\n",
      "SOURCE TYPE DOES NOT EXIST SOMETHING WRONG!!!!!!!!!\n",
      "SOURCE TYPE DOES NOT EXIST SOMETHING WRONG!!!!!!!!!\n",
      "SOURCE TYPE DOES NOT EXIST SOMETHING WRONG!!!!!!!!!\n",
      "SOURCE TYPE DOES NOT EXIST SOMETHING WRONG!!!!!!!!!\n",
      "SOURCE TYPE DOES NOT EXIST SOMETHING WRONG!!!!!!!!!\n",
      "SOURCE TYPE DOES NOT EXIST SOMETHING WRONG!!!!!!!!!\n",
      "SOURCE TYPE DOES NOT EXIST SOMETHING WRONG!!!!!!!!!\n",
      "SOURCE TYPE DOES NOT EXIST SOMETHING WRONG!!!!!!!!!\n",
      "SOURCE TYPE DOES NOT EXIST SOMETHING WRONG!!!!!!!!!\n",
      "SOURCE TYPE DOES NOT EXIST SOMETHING WRONG!!!!!!!!!\n",
      "SOURCE TYPE DOES NOT EXIST SOMETHING WRONG!!!!!!!!!\n",
      "SOURCE TYPE DOES NOT EXIST SOMETHING WRONG!!!!!!!!!\n",
      "SOURCE TYPE DOES NOT EXIST SOMETHING WRONG!!!!!!!!!\n",
      "SOURCE TYPE DOES NOT EXIST SOMETHING WRONG!!!!!!!!!\n",
      "SOURCE TYPE DOES NOT EXIST SOMETHING WRONG!!!!!!!!!\n",
      "SOURCE TYPE DOES NOT EXIST SOMETHING WRONG!!!!!!!!!\n",
      "SOURCE TYPE DOES NOT EXIST SOMETHING WRONG!!!!!!!!!\n",
      "SOURCE TYPE DOES NOT EXIST SOMETHING WRONG!!!!!!!!!\n",
      "SOURCE TYPE DOES NOT EXIST SOMETHING WRONG!!!!!!!!!\n",
      "SOURCE TYPE DOES NOT EXIST SOMETHING WRONG!!!!!!!!!\n",
      "SOURCE TYPE DOES NOT EXIST SOMETHING WRONG!!!!!!!!!\n",
      "SOURCE TYPE DOES NOT EXIST SOMETHING WRONG!!!!!!!!!\n",
      "SOURCE TYPE DOES NOT EXIST SOMETHING WRONG!!!!!!!!!\n",
      "SOURCE TYPE DOES NOT EXIST SOMETHING WRONG!!!!!!!!!\n",
      "SOURCE TYPE DOES NOT EXIST SOMETHING WRONG!!!!!!!!!\n",
      "SOURCE TYPE DOES NOT EXIST SOMETHING WRONG!!!!!!!!!\n",
      "SOURCE TYPE DOES NOT EXIST SOMETHING WRONG!!!!!!!!!\n",
      "SOURCE TYPE DOES NOT EXIST SOMETHING WRONG!!!!!!!!!\n",
      "SOURCE TYPE DOES NOT EXIST SOMETHING WRONG!!!!!!!!!\n",
      "SOURCE TYPE DOES NOT EXIST SOMETHING WRONG!!!!!!!!!\n",
      "SOURCE TYPE DOES NOT EXIST SOMETHING WRONG!!!!!!!!!\n",
      "SOURCE TYPE DOES NOT EXIST SOMETHING WRONG!!!!!!!!!\n",
      "SOURCE TYPE DOES NOT EXIST SOMETHING WRONG!!!!!!!!!\n",
      "SOURCE TYPE DOES NOT EXIST SOMETHING WRONG!!!!!!!!!\n",
      "SOURCE TYPE DOES NOT EXIST SOMETHING WRONG!!!!!!!!!\n",
      "SOURCE TYPE DOES NOT EXIST SOMETHING WRONG!!!!!!!!!\n",
      "SOURCE TYPE DOES NOT EXIST SOMETHING WRONG!!!!!!!!!\n",
      "SOURCE TYPE DOES NOT EXIST SOMETHING WRONG!!!!!!!!!\n",
      "SOURCE TYPE DOES NOT EXIST SOMETHING WRONG!!!!!!!!!\n",
      "SOURCE TYPE DOES NOT EXIST SOMETHING WRONG!!!!!!!!!\n",
      "SOURCE TYPE DOES NOT EXIST SOMETHING WRONG!!!!!!!!!\n",
      "SOURCE TYPE DOES NOT EXIST SOMETHING WRONG!!!!!!!!!\n",
      "pf_list_list [<Synapses.Synapse_py3 object at 0x7fad0700c700>, <Synapses.Synapse_py3 object at 0x7fad0700ce80>, <Synapses.Synapse_py3 object at 0x7fad0703a1c0>, <Synapses.Synapse_py3 object at 0x7fad0703ac40>, <Synapses.Synapse_py3 object at 0x7fad0703a130>, <Synapses.Synapse_py3 object at 0x7fad0ba42130>, <Synapses.Synapse_py3 object at 0x7fad0ba42220>, <Synapses.Synapse_py3 object at 0x7fad0ba42190>, <Synapses.Synapse_py3 object at 0x7fad0ba42430>, <Synapses.Synapse_py3 object at 0x7fad0ba42670>, <Synapses.Synapse_py3 object at 0x7fad0ba47790>, <Synapses.Synapse_py3 object at 0x7fad0ba478e0>, <Synapses.Synapse_py3 object at 0x7fad0ba8c040>, <Synapses.Synapse_py3 object at 0x7fad0ba8c3d0>, <Synapses.Synapse_py3 object at 0x7fad0ba8c280>, <Synapses.Synapse_py3 object at 0x7fad0ba8c610>, <Synapses.Synapse_py3 object at 0x7fad0ba8c220>, <Synapses.Synapse_py3 object at 0x7fad0ba8c640>, <Synapses.Synapse_py3 object at 0x7fad0ba8c6d0>, <Synapses.Synapse_py3 object at 0x7fad07026a00>, <Synapses.Synapse_py3 object at 0x7fad0ba3a550>, <Synapses.Synapse_py3 object at 0x7fad0ba73d60>, <Synapses.Synapse_py3 object at 0x7fad0ba73ca0>, <Synapses.Synapse_py3 object at 0x7fad0ba73b80>, <Synapses.Synapse_py3 object at 0x7fad0ba867f0>, <Synapses.Synapse_py3 object at 0x7fad0ba866d0>, <Synapses.Synapse_py3 object at 0x7fad0ba868b0>, <Synapses.Synapse_py3 object at 0x7fad0ba86700>, <Synapses.Synapse_py3 object at 0x7fad0ba865e0>, <Synapses.Synapse_py3 object at 0x7fad0ba864f0>, <Synapses.Synapse_py3 object at 0x7fad0ba86550>, <Synapses.Synapse_py3 object at 0x7fad0ba86af0>, <Synapses.Synapse_py3 object at 0x7fad0ba86e20>, <Synapses.Synapse_py3 object at 0x7fad0ba86c40>, <Synapses.Synapse_py3 object at 0x7fad0ba86be0>, <Synapses.Synapse_py3 object at 0x7fad0ba85040>, <Synapses.Synapse_py3 object at 0x7fad0ba85640>, <Synapses.Synapse_py3 object at 0x7fad0ba85fa0>, <Synapses.Synapse_py3 object at 0x7fad0ba85550>, <Synapses.Synapse_py3 object at 0x7fad0ba85eb0>, <Synapses.Synapse_py3 object at 0x7fad0ba856a0>, <Synapses.Synapse_py3 object at 0x7fad0ba85fd0>, <Synapses.Synapse_py3 object at 0x7fad0ba857f0>, <Synapses.Synapse_py3 object at 0x7fad0ba85e50>, <Synapses.Synapse_py3 object at 0x7fad0ba85ca0>, <Synapses.Synapse_py3 object at 0x7fad0ba85d00>, <Synapses.Synapse_py3 object at 0x7fad0ba85520>, <Synapses.Synapse_py3 object at 0x7fad0ba95fa0>, <Synapses.Synapse_py3 object at 0x7fad0ba95e80>, <Synapses.Synapse_py3 object at 0x7fad0ba95d60>, <Synapses.Synapse_py3 object at 0x7fad0ba95c40>, <Synapses.Synapse_py3 object at 0x7fad0ba95b20>, <Synapses.Synapse_py3 object at 0x7fad0ba95a00>, <Synapses.Synapse_py3 object at 0x7fad0ba958e0>, <Synapses.Synapse_py3 object at 0x7fad0ba957c0>, <Synapses.Synapse_py3 object at 0x7fad0ba860d0>, <Synapses.Synapse_py3 object at 0x7fad0700cca0>, <Synapses.Synapse_py3 object at 0x7fad0ba954c0>, <Synapses.Synapse_py3 object at 0x7fad0ba953a0>, <Synapses.Synapse_py3 object at 0x7fad0ba950d0>, <Synapses.Synapse_py3 object at 0x7fad0ba952b0>, <Synapses.Synapse_py3 object at 0x7fad0ba95190>, <Synapses.Synapse_py3 object at 0x7fad09379b20>, <Synapses.Synapse_py3 object at 0x7fad0ba3a640>, <Synapses.Synapse_py3 object at 0x7fad0ba99130>, <Synapses.Synapse_py3 object at 0x7fad0ba95250>, <Synapses.Synapse_py3 object at 0x7fad0ba95220>, <Synapses.Synapse_py3 object at 0x7fad0ba950a0>, <Synapses.Synapse_py3 object at 0x7fad0ba95430>, <Synapses.Synapse_py3 object at 0x7fad0ba955b0>, <Synapses.Synapse_py3 object at 0x7fad0ba951f0>, <Synapses.Synapse_py3 object at 0x7fad0ba95580>, <Synapses.Synapse_py3 object at 0x7fad0ba95070>, <Synapses.Synapse_py3 object at 0x7fad0ba957f0>, <Synapses.Synapse_py3 object at 0x7fad0ba95970>, <Synapses.Synapse_py3 object at 0x7fad0ba95b50>, <Synapses.Synapse_py3 object at 0x7fad0ba95cd0>, <Synapses.Synapse_py3 object at 0x7fad0ba95eb0>, <Synapses.Synapse_py3 object at 0x7fad0ba85250>, <Synapses.Synapse_py3 object at 0x7fad0ba859a0>, <Synapses.Synapse_py3 object at 0x7fad0ba95df0>, <Synapses.Synapse_py3 object at 0x7fad0ba95ee0>, <Synapses.Synapse_py3 object at 0x7fad0ba95ca0>, <Synapses.Synapse_py3 object at 0x7fad0ba959a0>, <Synapses.Synapse_py3 object at 0x7fad0ba951c0>, <Synapses.Synapse_py3 object at 0x7fad0ba954f0>, <Synapses.Synapse_py3 object at 0x7fad0ba85a90>, <Synapses.Synapse_py3 object at 0x7fad0ba859d0>, <Synapses.Synapse_py3 object at 0x7fad0ba85220>]\n",
      "self.dend_mf 27\n"
     ]
    }
   ],
   "metadata": {}
  },
  {
   "cell_type": "code",
   "execution_count": 8,
   "source": [
    "#PF syn\n",
    "spk_stim_pf = []\n",
    "totalstim = int(stimdata['timeglobal']/  synapsesdata['synstart'])\n",
    "\n",
    "for j in range(int(totalstim)):\n",
    "    spk_stim = h.NetStim()\n",
    "    spk_stim.interval=synapsesdata['syninterval']\n",
    "    spk_stim.number=synapsesdata['synnumber']\n",
    "    spk_stim.noise=synapsesdata['synnoise']\n",
    "    spk_stim.start=(synapsesdata['synstart'] * (totalstim - j)) + synapsesdata['synpfdelay']\n",
    "    \n",
    "    spk_stim_pf.append(spk_stim)\n",
    "    spk_nc_pfsyn = []\n",
    "    j = j-1\n",
    "\n",
    "print('len pf', len(cell.L_PF))\n",
    "\n",
    "for m in range(int(totalstim)):\t\n",
    "    spk_nc_pfsyn.append([h.NetCon(spk_stim_pf[m],PF.input,0,0.1,1) for PF in cell.L_PF])\n",
    "\n",
    "\n",
    "#MF syn\n",
    "spk_stim_mf = []\n",
    "totalstim1 = int(stimdata['timeglobal']/  synapsesdata['synstart_mf'])\n",
    "\n",
    "for j in range(int(totalstim1)):\n",
    "    spk_stim_2 = h.NetStim()\n",
    "    spk_stim_2.interval=synapsesdata['syninterval_mf']\n",
    "    spk_stim_2.number=synapsesdata['synnumber_mf']\n",
    "    spk_stim_2.noise=synapsesdata['synnoise_mf']\n",
    "    spk_stim_2.start=(synapsesdata['synstart_mf'] * (totalstim1 - j))   + synapsesdata['synmfdelay'] \n",
    "    \n",
    "    spk_stim_mf.append(spk_stim_2)\n",
    "    spk_nc_mfsyn = []\n",
    "    spk_nc_mfsyn_B = []\n",
    "    j = j-1\n",
    "\n",
    "print('len mf', len(cell.L_MF))\n",
    "\n",
    "for v in range(int(totalstim1)):\t\n",
    "    spk_nc_mfsyn.append([h.NetCon(spk_stim_mf[v],MF.input,0,0.1,1) for MF in cell.L_MF])\n",
    "    spk_nc_mfsyn_B.append([h.NetCon(spk_stim_mf[v],MF_nmda_B.input,0,0.1,1) for MF_nmda_B in cell.L_MF_NMDA_B])"
   ],
   "outputs": [
    {
     "output_type": "stream",
     "name": "stdout",
     "text": [
      "len pf 89\n",
      "len mf 0\n"
     ]
    }
   ],
   "metadata": {}
  },
  {
   "cell_type": "code",
   "execution_count": 9,
   "source": [
    "#AA syn\n",
    "spk_stim_aa = []\n",
    "totalstim_aa = int(stimdata['timeglobal']/  synapsesdata['synstart_aa'])\n",
    "\n",
    "for j in range(int(totalstim_aa)):\n",
    "    spk_stim_2 = h.NetStim()\n",
    "    spk_stim_2.interval=synapsesdata['syninterval_aa']\n",
    "    spk_stim_2.number=synapsesdata['synnumber_aa']\n",
    "    spk_stim_2.noise=synapsesdata['synnoise_aa']\n",
    "    spk_stim_2.start=(synapsesdata['synstart_aa'] * (totalstim_aa - j))   + synapsesdata['synaadelay'] \n",
    "    \n",
    "    spk_stim_aa.append(spk_stim_2)\n",
    "    spk_nc_aasyn = []\n",
    "    spk_nc_aasyn_B = []\n",
    "    j = j-1\n",
    "\n",
    "print('len aa', len(cell.L_AA))\n",
    "\n",
    "for z in range(int(totalstim_aa)):\t\n",
    "    spk_nc_aasyn.append([h.NetCon(spk_stim_aa[z],AA.input,0,0.1,1) for AA in cell.L_AA])\n",
    "    spk_nc_aasyn_B.append([h.NetCon(spk_stim_aa[z],MF_nmda_B.input,0,0.1,1) for MF_nmda_B in cell.L_AA_NMDA_B])"
   ],
   "outputs": [
    {
     "output_type": "stream",
     "name": "stdout",
     "text": [
      "len aa 0\n"
     ]
    }
   ],
   "metadata": {}
  },
  {
   "cell_type": "code",
   "execution_count": 10,
   "source": [
    "#Basic properties of the simulation. dt, temperature, sim duration and initial voltage\n",
    "h.dt = 0.025\n",
    "h.celsius = 32\n",
    "h.tstop = stimdata['timeglobal']\n",
    "h.v_init = -65\n",
    "\n",
    "#Initialization \n",
    "def initialize():\n",
    "    h.finitialize()\n",
    "    h.run()\n",
    "    \n",
    "initialize()\n",
    "\n",
    "\n",
    "#Save a time voltage trace which will be different based on the number and type of active synapses\n",
    "def save_trace(time_vec, vm_vec, pf_n, aa_n, mf_n, inib_n):\n",
    "    \n",
    "    np.savetxt('04_trace_indiv_syn_pf_' + str(pf_n) + '_mf_' + str(mf_n) + '_aa_' + str(aa_n) + '_inib_' + str(inib_n) + '_morpho_2.txt', np.column_stack((time_vec,vm_vec)), delimiter = ' ')\n",
    "    \n",
    "    fig, ax = plt.subplots()\n",
    "    ax.plot(time_vec, vm_vec, 'b', label='spikes')\n",
    "\n",
    "    plt.xlabel(\"time (ms)\")\n",
    "    plt.ylabel(\"membrane voltage (mv) \")\n",
    "    \n",
    "    \n",
    "save_trace(np.array(cell.time_vector), np.array(cell.vm), pf_syn, aa_syn, mf_syn, inib_syn)"
   ],
   "outputs": [
    {
     "output_type": "display_data",
     "data": {
      "text/plain": [
       "<Figure size 432x288 with 1 Axes>"
      ],
      "image/svg+xml": "<?xml version=\"1.0\" encoding=\"utf-8\" standalone=\"no\"?>\n<!DOCTYPE svg PUBLIC \"-//W3C//DTD SVG 1.1//EN\"\n  \"http://www.w3.org/Graphics/SVG/1.1/DTD/svg11.dtd\">\n<svg height=\"262.19625pt\" version=\"1.1\" viewBox=\"0 0 390.982812 262.19625\" width=\"390.982812pt\" xmlns=\"http://www.w3.org/2000/svg\" xmlns:xlink=\"http://www.w3.org/1999/xlink\">\n <metadata>\n  <rdf:RDF xmlns:cc=\"http://creativecommons.org/ns#\" xmlns:dc=\"http://purl.org/dc/elements/1.1/\" xmlns:rdf=\"http://www.w3.org/1999/02/22-rdf-syntax-ns#\">\n   <cc:Work>\n    <dc:type rdf:resource=\"http://purl.org/dc/dcmitype/StillImage\"/>\n    <dc:date>2022-01-28T12:30:54.453036</dc:date>\n    <dc:format>image/svg+xml</dc:format>\n    <dc:creator>\n     <cc:Agent>\n      <dc:title>Matplotlib v3.4.3, https://matplotlib.org/</dc:title>\n     </cc:Agent>\n    </dc:creator>\n   </cc:Work>\n  </rdf:RDF>\n </metadata>\n <defs>\n  <style type=\"text/css\">*{stroke-linecap:butt;stroke-linejoin:round;}</style>\n </defs>\n <g id=\"figure_1\">\n  <g id=\"patch_1\">\n   <path d=\"M 0 262.19625 \nL 390.982812 262.19625 \nL 390.982812 0 \nL 0 0 \nz\n\" style=\"fill:none;\"/>\n  </g>\n  <g id=\"axes_1\">\n   <g id=\"patch_2\">\n    <path d=\"M 48.982813 224.64 \nL 383.782813 224.64 \nL 383.782813 7.2 \nL 48.982813 7.2 \nz\n\" style=\"fill:#ffffff;\"/>\n   </g>\n   <g id=\"matplotlib.axis_1\">\n    <g id=\"xtick_1\">\n     <g id=\"line2d_1\">\n      <defs>\n       <path d=\"M 0 0 \nL 0 3.5 \n\" id=\"m2e74e058de\" style=\"stroke:#000000;stroke-width:0.8;\"/>\n      </defs>\n      <g>\n       <use style=\"stroke:#000000;stroke-width:0.8;\" x=\"64.200994\" xlink:href=\"#m2e74e058de\" y=\"224.64\"/>\n      </g>\n     </g>\n     <g id=\"text_1\">\n      <!-- 0 -->\n      <g transform=\"translate(61.019744 239.238437)scale(0.1 -0.1)\">\n       <defs>\n        <path d=\"M 2034 4250 \nQ 1547 4250 1301 3770 \nQ 1056 3291 1056 2328 \nQ 1056 1369 1301 889 \nQ 1547 409 2034 409 \nQ 2525 409 2770 889 \nQ 3016 1369 3016 2328 \nQ 3016 3291 2770 3770 \nQ 2525 4250 2034 4250 \nz\nM 2034 4750 \nQ 2819 4750 3233 4129 \nQ 3647 3509 3647 2328 \nQ 3647 1150 3233 529 \nQ 2819 -91 2034 -91 \nQ 1250 -91 836 529 \nQ 422 1150 422 2328 \nQ 422 3509 836 4129 \nQ 1250 4750 2034 4750 \nz\n\" id=\"DejaVuSans-30\" transform=\"scale(0.015625)\"/>\n       </defs>\n       <use xlink:href=\"#DejaVuSans-30\"/>\n      </g>\n     </g>\n    </g>\n    <g id=\"xtick_2\">\n     <g id=\"line2d_2\">\n      <g>\n       <use style=\"stroke:#000000;stroke-width:0.8;\" x=\"114.928267\" xlink:href=\"#m2e74e058de\" y=\"224.64\"/>\n      </g>\n     </g>\n     <g id=\"text_2\">\n      <!-- 500 -->\n      <g transform=\"translate(105.384517 239.238437)scale(0.1 -0.1)\">\n       <defs>\n        <path d=\"M 691 4666 \nL 3169 4666 \nL 3169 4134 \nL 1269 4134 \nL 1269 2991 \nQ 1406 3038 1543 3061 \nQ 1681 3084 1819 3084 \nQ 2600 3084 3056 2656 \nQ 3513 2228 3513 1497 \nQ 3513 744 3044 326 \nQ 2575 -91 1722 -91 \nQ 1428 -91 1123 -41 \nQ 819 9 494 109 \nL 494 744 \nQ 775 591 1075 516 \nQ 1375 441 1709 441 \nQ 2250 441 2565 725 \nQ 2881 1009 2881 1497 \nQ 2881 1984 2565 2268 \nQ 2250 2553 1709 2553 \nQ 1456 2553 1204 2497 \nQ 953 2441 691 2322 \nL 691 4666 \nz\n\" id=\"DejaVuSans-35\" transform=\"scale(0.015625)\"/>\n       </defs>\n       <use xlink:href=\"#DejaVuSans-35\"/>\n       <use x=\"63.623047\" xlink:href=\"#DejaVuSans-30\"/>\n       <use x=\"127.246094\" xlink:href=\"#DejaVuSans-30\"/>\n      </g>\n     </g>\n    </g>\n    <g id=\"xtick_3\">\n     <g id=\"line2d_3\">\n      <g>\n       <use style=\"stroke:#000000;stroke-width:0.8;\" x=\"165.65554\" xlink:href=\"#m2e74e058de\" y=\"224.64\"/>\n      </g>\n     </g>\n     <g id=\"text_3\">\n      <!-- 1000 -->\n      <g transform=\"translate(152.93054 239.238437)scale(0.1 -0.1)\">\n       <defs>\n        <path d=\"M 794 531 \nL 1825 531 \nL 1825 4091 \nL 703 3866 \nL 703 4441 \nL 1819 4666 \nL 2450 4666 \nL 2450 531 \nL 3481 531 \nL 3481 0 \nL 794 0 \nL 794 531 \nz\n\" id=\"DejaVuSans-31\" transform=\"scale(0.015625)\"/>\n       </defs>\n       <use xlink:href=\"#DejaVuSans-31\"/>\n       <use x=\"63.623047\" xlink:href=\"#DejaVuSans-30\"/>\n       <use x=\"127.246094\" xlink:href=\"#DejaVuSans-30\"/>\n       <use x=\"190.869141\" xlink:href=\"#DejaVuSans-30\"/>\n      </g>\n     </g>\n    </g>\n    <g id=\"xtick_4\">\n     <g id=\"line2d_4\">\n      <g>\n       <use style=\"stroke:#000000;stroke-width:0.8;\" x=\"216.382813\" xlink:href=\"#m2e74e058de\" y=\"224.64\"/>\n      </g>\n     </g>\n     <g id=\"text_4\">\n      <!-- 1500 -->\n      <g transform=\"translate(203.657813 239.238437)scale(0.1 -0.1)\">\n       <use xlink:href=\"#DejaVuSans-31\"/>\n       <use x=\"63.623047\" xlink:href=\"#DejaVuSans-35\"/>\n       <use x=\"127.246094\" xlink:href=\"#DejaVuSans-30\"/>\n       <use x=\"190.869141\" xlink:href=\"#DejaVuSans-30\"/>\n      </g>\n     </g>\n    </g>\n    <g id=\"xtick_5\">\n     <g id=\"line2d_5\">\n      <g>\n       <use style=\"stroke:#000000;stroke-width:0.8;\" x=\"267.110085\" xlink:href=\"#m2e74e058de\" y=\"224.64\"/>\n      </g>\n     </g>\n     <g id=\"text_5\">\n      <!-- 2000 -->\n      <g transform=\"translate(254.385085 239.238437)scale(0.1 -0.1)\">\n       <defs>\n        <path d=\"M 1228 531 \nL 3431 531 \nL 3431 0 \nL 469 0 \nL 469 531 \nQ 828 903 1448 1529 \nQ 2069 2156 2228 2338 \nQ 2531 2678 2651 2914 \nQ 2772 3150 2772 3378 \nQ 2772 3750 2511 3984 \nQ 2250 4219 1831 4219 \nQ 1534 4219 1204 4116 \nQ 875 4013 500 3803 \nL 500 4441 \nQ 881 4594 1212 4672 \nQ 1544 4750 1819 4750 \nQ 2544 4750 2975 4387 \nQ 3406 4025 3406 3419 \nQ 3406 3131 3298 2873 \nQ 3191 2616 2906 2266 \nQ 2828 2175 2409 1742 \nQ 1991 1309 1228 531 \nz\n\" id=\"DejaVuSans-32\" transform=\"scale(0.015625)\"/>\n       </defs>\n       <use xlink:href=\"#DejaVuSans-32\"/>\n       <use x=\"63.623047\" xlink:href=\"#DejaVuSans-30\"/>\n       <use x=\"127.246094\" xlink:href=\"#DejaVuSans-30\"/>\n       <use x=\"190.869141\" xlink:href=\"#DejaVuSans-30\"/>\n      </g>\n     </g>\n    </g>\n    <g id=\"xtick_6\">\n     <g id=\"line2d_6\">\n      <g>\n       <use style=\"stroke:#000000;stroke-width:0.8;\" x=\"317.837358\" xlink:href=\"#m2e74e058de\" y=\"224.64\"/>\n      </g>\n     </g>\n     <g id=\"text_6\">\n      <!-- 2500 -->\n      <g transform=\"translate(305.112358 239.238437)scale(0.1 -0.1)\">\n       <use xlink:href=\"#DejaVuSans-32\"/>\n       <use x=\"63.623047\" xlink:href=\"#DejaVuSans-35\"/>\n       <use x=\"127.246094\" xlink:href=\"#DejaVuSans-30\"/>\n       <use x=\"190.869141\" xlink:href=\"#DejaVuSans-30\"/>\n      </g>\n     </g>\n    </g>\n    <g id=\"xtick_7\">\n     <g id=\"line2d_7\">\n      <g>\n       <use style=\"stroke:#000000;stroke-width:0.8;\" x=\"368.564631\" xlink:href=\"#m2e74e058de\" y=\"224.64\"/>\n      </g>\n     </g>\n     <g id=\"text_7\">\n      <!-- 3000 -->\n      <g transform=\"translate(355.839631 239.238437)scale(0.1 -0.1)\">\n       <defs>\n        <path d=\"M 2597 2516 \nQ 3050 2419 3304 2112 \nQ 3559 1806 3559 1356 \nQ 3559 666 3084 287 \nQ 2609 -91 1734 -91 \nQ 1441 -91 1130 -33 \nQ 819 25 488 141 \nL 488 750 \nQ 750 597 1062 519 \nQ 1375 441 1716 441 \nQ 2309 441 2620 675 \nQ 2931 909 2931 1356 \nQ 2931 1769 2642 2001 \nQ 2353 2234 1838 2234 \nL 1294 2234 \nL 1294 2753 \nL 1863 2753 \nQ 2328 2753 2575 2939 \nQ 2822 3125 2822 3475 \nQ 2822 3834 2567 4026 \nQ 2313 4219 1838 4219 \nQ 1578 4219 1281 4162 \nQ 984 4106 628 3988 \nL 628 4550 \nQ 988 4650 1302 4700 \nQ 1616 4750 1894 4750 \nQ 2613 4750 3031 4423 \nQ 3450 4097 3450 3541 \nQ 3450 3153 3228 2886 \nQ 3006 2619 2597 2516 \nz\n\" id=\"DejaVuSans-33\" transform=\"scale(0.015625)\"/>\n       </defs>\n       <use xlink:href=\"#DejaVuSans-33\"/>\n       <use x=\"63.623047\" xlink:href=\"#DejaVuSans-30\"/>\n       <use x=\"127.246094\" xlink:href=\"#DejaVuSans-30\"/>\n       <use x=\"190.869141\" xlink:href=\"#DejaVuSans-30\"/>\n      </g>\n     </g>\n    </g>\n    <g id=\"text_8\">\n     <!-- time (ms) -->\n     <g transform=\"translate(192.121094 252.916562)scale(0.1 -0.1)\">\n      <defs>\n       <path d=\"M 1172 4494 \nL 1172 3500 \nL 2356 3500 \nL 2356 3053 \nL 1172 3053 \nL 1172 1153 \nQ 1172 725 1289 603 \nQ 1406 481 1766 481 \nL 2356 481 \nL 2356 0 \nL 1766 0 \nQ 1100 0 847 248 \nQ 594 497 594 1153 \nL 594 3053 \nL 172 3053 \nL 172 3500 \nL 594 3500 \nL 594 4494 \nL 1172 4494 \nz\n\" id=\"DejaVuSans-74\" transform=\"scale(0.015625)\"/>\n       <path d=\"M 603 3500 \nL 1178 3500 \nL 1178 0 \nL 603 0 \nL 603 3500 \nz\nM 603 4863 \nL 1178 4863 \nL 1178 4134 \nL 603 4134 \nL 603 4863 \nz\n\" id=\"DejaVuSans-69\" transform=\"scale(0.015625)\"/>\n       <path d=\"M 3328 2828 \nQ 3544 3216 3844 3400 \nQ 4144 3584 4550 3584 \nQ 5097 3584 5394 3201 \nQ 5691 2819 5691 2113 \nL 5691 0 \nL 5113 0 \nL 5113 2094 \nQ 5113 2597 4934 2840 \nQ 4756 3084 4391 3084 \nQ 3944 3084 3684 2787 \nQ 3425 2491 3425 1978 \nL 3425 0 \nL 2847 0 \nL 2847 2094 \nQ 2847 2600 2669 2842 \nQ 2491 3084 2119 3084 \nQ 1678 3084 1418 2786 \nQ 1159 2488 1159 1978 \nL 1159 0 \nL 581 0 \nL 581 3500 \nL 1159 3500 \nL 1159 2956 \nQ 1356 3278 1631 3431 \nQ 1906 3584 2284 3584 \nQ 2666 3584 2933 3390 \nQ 3200 3197 3328 2828 \nz\n\" id=\"DejaVuSans-6d\" transform=\"scale(0.015625)\"/>\n       <path d=\"M 3597 1894 \nL 3597 1613 \nL 953 1613 \nQ 991 1019 1311 708 \nQ 1631 397 2203 397 \nQ 2534 397 2845 478 \nQ 3156 559 3463 722 \nL 3463 178 \nQ 3153 47 2828 -22 \nQ 2503 -91 2169 -91 \nQ 1331 -91 842 396 \nQ 353 884 353 1716 \nQ 353 2575 817 3079 \nQ 1281 3584 2069 3584 \nQ 2775 3584 3186 3129 \nQ 3597 2675 3597 1894 \nz\nM 3022 2063 \nQ 3016 2534 2758 2815 \nQ 2500 3097 2075 3097 \nQ 1594 3097 1305 2825 \nQ 1016 2553 972 2059 \nL 3022 2063 \nz\n\" id=\"DejaVuSans-65\" transform=\"scale(0.015625)\"/>\n       <path id=\"DejaVuSans-20\" transform=\"scale(0.015625)\"/>\n       <path d=\"M 1984 4856 \nQ 1566 4138 1362 3434 \nQ 1159 2731 1159 2009 \nQ 1159 1288 1364 580 \nQ 1569 -128 1984 -844 \nL 1484 -844 \nQ 1016 -109 783 600 \nQ 550 1309 550 2009 \nQ 550 2706 781 3412 \nQ 1013 4119 1484 4856 \nL 1984 4856 \nz\n\" id=\"DejaVuSans-28\" transform=\"scale(0.015625)\"/>\n       <path d=\"M 2834 3397 \nL 2834 2853 \nQ 2591 2978 2328 3040 \nQ 2066 3103 1784 3103 \nQ 1356 3103 1142 2972 \nQ 928 2841 928 2578 \nQ 928 2378 1081 2264 \nQ 1234 2150 1697 2047 \nL 1894 2003 \nQ 2506 1872 2764 1633 \nQ 3022 1394 3022 966 \nQ 3022 478 2636 193 \nQ 2250 -91 1575 -91 \nQ 1294 -91 989 -36 \nQ 684 19 347 128 \nL 347 722 \nQ 666 556 975 473 \nQ 1284 391 1588 391 \nQ 1994 391 2212 530 \nQ 2431 669 2431 922 \nQ 2431 1156 2273 1281 \nQ 2116 1406 1581 1522 \nL 1381 1569 \nQ 847 1681 609 1914 \nQ 372 2147 372 2553 \nQ 372 3047 722 3315 \nQ 1072 3584 1716 3584 \nQ 2034 3584 2315 3537 \nQ 2597 3491 2834 3397 \nz\n\" id=\"DejaVuSans-73\" transform=\"scale(0.015625)\"/>\n       <path d=\"M 513 4856 \nL 1013 4856 \nQ 1481 4119 1714 3412 \nQ 1947 2706 1947 2009 \nQ 1947 1309 1714 600 \nQ 1481 -109 1013 -844 \nL 513 -844 \nQ 928 -128 1133 580 \nQ 1338 1288 1338 2009 \nQ 1338 2731 1133 3434 \nQ 928 4138 513 4856 \nz\n\" id=\"DejaVuSans-29\" transform=\"scale(0.015625)\"/>\n      </defs>\n      <use xlink:href=\"#DejaVuSans-74\"/>\n      <use x=\"39.208984\" xlink:href=\"#DejaVuSans-69\"/>\n      <use x=\"66.992188\" xlink:href=\"#DejaVuSans-6d\"/>\n      <use x=\"164.404297\" xlink:href=\"#DejaVuSans-65\"/>\n      <use x=\"225.927734\" xlink:href=\"#DejaVuSans-20\"/>\n      <use x=\"257.714844\" xlink:href=\"#DejaVuSans-28\"/>\n      <use x=\"296.728516\" xlink:href=\"#DejaVuSans-6d\"/>\n      <use x=\"394.140625\" xlink:href=\"#DejaVuSans-73\"/>\n      <use x=\"446.240234\" xlink:href=\"#DejaVuSans-29\"/>\n     </g>\n    </g>\n   </g>\n   <g id=\"matplotlib.axis_2\">\n    <g id=\"ytick_1\">\n     <g id=\"line2d_8\">\n      <defs>\n       <path d=\"M 0 0 \nL -3.5 0 \n\" id=\"m897abd0ca3\" style=\"stroke:#000000;stroke-width:0.8;\"/>\n      </defs>\n      <g>\n       <use style=\"stroke:#000000;stroke-width:0.8;\" x=\"48.982813\" xlink:href=\"#m897abd0ca3\" y=\"188.429259\"/>\n      </g>\n     </g>\n     <g id=\"text_9\">\n      <!-- −60 -->\n      <g transform=\"translate(20.878125 192.228478)scale(0.1 -0.1)\">\n       <defs>\n        <path d=\"M 678 2272 \nL 4684 2272 \nL 4684 1741 \nL 678 1741 \nL 678 2272 \nz\n\" id=\"DejaVuSans-2212\" transform=\"scale(0.015625)\"/>\n        <path d=\"M 2113 2584 \nQ 1688 2584 1439 2293 \nQ 1191 2003 1191 1497 \nQ 1191 994 1439 701 \nQ 1688 409 2113 409 \nQ 2538 409 2786 701 \nQ 3034 994 3034 1497 \nQ 3034 2003 2786 2293 \nQ 2538 2584 2113 2584 \nz\nM 3366 4563 \nL 3366 3988 \nQ 3128 4100 2886 4159 \nQ 2644 4219 2406 4219 \nQ 1781 4219 1451 3797 \nQ 1122 3375 1075 2522 \nQ 1259 2794 1537 2939 \nQ 1816 3084 2150 3084 \nQ 2853 3084 3261 2657 \nQ 3669 2231 3669 1497 \nQ 3669 778 3244 343 \nQ 2819 -91 2113 -91 \nQ 1303 -91 875 529 \nQ 447 1150 447 2328 \nQ 447 3434 972 4092 \nQ 1497 4750 2381 4750 \nQ 2619 4750 2861 4703 \nQ 3103 4656 3366 4563 \nz\n\" id=\"DejaVuSans-36\" transform=\"scale(0.015625)\"/>\n       </defs>\n       <use xlink:href=\"#DejaVuSans-2212\"/>\n       <use x=\"83.789062\" xlink:href=\"#DejaVuSans-36\"/>\n       <use x=\"147.412109\" xlink:href=\"#DejaVuSans-30\"/>\n      </g>\n     </g>\n    </g>\n    <g id=\"ytick_2\">\n     <g id=\"line2d_9\">\n      <g>\n       <use style=\"stroke:#000000;stroke-width:0.8;\" x=\"48.982813\" xlink:href=\"#m897abd0ca3\" y=\"146.657951\"/>\n      </g>\n     </g>\n     <g id=\"text_10\">\n      <!-- −40 -->\n      <g transform=\"translate(20.878125 150.45717)scale(0.1 -0.1)\">\n       <defs>\n        <path d=\"M 2419 4116 \nL 825 1625 \nL 2419 1625 \nL 2419 4116 \nz\nM 2253 4666 \nL 3047 4666 \nL 3047 1625 \nL 3713 1625 \nL 3713 1100 \nL 3047 1100 \nL 3047 0 \nL 2419 0 \nL 2419 1100 \nL 313 1100 \nL 313 1709 \nL 2253 4666 \nz\n\" id=\"DejaVuSans-34\" transform=\"scale(0.015625)\"/>\n       </defs>\n       <use xlink:href=\"#DejaVuSans-2212\"/>\n       <use x=\"83.789062\" xlink:href=\"#DejaVuSans-34\"/>\n       <use x=\"147.412109\" xlink:href=\"#DejaVuSans-30\"/>\n      </g>\n     </g>\n    </g>\n    <g id=\"ytick_3\">\n     <g id=\"line2d_10\">\n      <g>\n       <use style=\"stroke:#000000;stroke-width:0.8;\" x=\"48.982813\" xlink:href=\"#m897abd0ca3\" y=\"104.886642\"/>\n      </g>\n     </g>\n     <g id=\"text_11\">\n      <!-- −20 -->\n      <g transform=\"translate(20.878125 108.685861)scale(0.1 -0.1)\">\n       <use xlink:href=\"#DejaVuSans-2212\"/>\n       <use x=\"83.789062\" xlink:href=\"#DejaVuSans-32\"/>\n       <use x=\"147.412109\" xlink:href=\"#DejaVuSans-30\"/>\n      </g>\n     </g>\n    </g>\n    <g id=\"ytick_4\">\n     <g id=\"line2d_11\">\n      <g>\n       <use style=\"stroke:#000000;stroke-width:0.8;\" x=\"48.982813\" xlink:href=\"#m897abd0ca3\" y=\"63.115334\"/>\n      </g>\n     </g>\n     <g id=\"text_12\">\n      <!-- 0 -->\n      <g transform=\"translate(35.620313 66.914552)scale(0.1 -0.1)\">\n       <use xlink:href=\"#DejaVuSans-30\"/>\n      </g>\n     </g>\n    </g>\n    <g id=\"ytick_5\">\n     <g id=\"line2d_12\">\n      <g>\n       <use style=\"stroke:#000000;stroke-width:0.8;\" x=\"48.982813\" xlink:href=\"#m897abd0ca3\" y=\"21.344025\"/>\n      </g>\n     </g>\n     <g id=\"text_13\">\n      <!-- 20 -->\n      <g transform=\"translate(29.257813 25.143244)scale(0.1 -0.1)\">\n       <use xlink:href=\"#DejaVuSans-32\"/>\n       <use x=\"63.623047\" xlink:href=\"#DejaVuSans-30\"/>\n      </g>\n     </g>\n    </g>\n    <g id=\"text_14\">\n     <!-- membrane voltage (mv)  -->\n     <g transform=\"translate(14.798438 178.4575)rotate(-90)scale(0.1 -0.1)\">\n      <defs>\n       <path d=\"M 3116 1747 \nQ 3116 2381 2855 2742 \nQ 2594 3103 2138 3103 \nQ 1681 3103 1420 2742 \nQ 1159 2381 1159 1747 \nQ 1159 1113 1420 752 \nQ 1681 391 2138 391 \nQ 2594 391 2855 752 \nQ 3116 1113 3116 1747 \nz\nM 1159 2969 \nQ 1341 3281 1617 3432 \nQ 1894 3584 2278 3584 \nQ 2916 3584 3314 3078 \nQ 3713 2572 3713 1747 \nQ 3713 922 3314 415 \nQ 2916 -91 2278 -91 \nQ 1894 -91 1617 61 \nQ 1341 213 1159 525 \nL 1159 0 \nL 581 0 \nL 581 4863 \nL 1159 4863 \nL 1159 2969 \nz\n\" id=\"DejaVuSans-62\" transform=\"scale(0.015625)\"/>\n       <path d=\"M 2631 2963 \nQ 2534 3019 2420 3045 \nQ 2306 3072 2169 3072 \nQ 1681 3072 1420 2755 \nQ 1159 2438 1159 1844 \nL 1159 0 \nL 581 0 \nL 581 3500 \nL 1159 3500 \nL 1159 2956 \nQ 1341 3275 1631 3429 \nQ 1922 3584 2338 3584 \nQ 2397 3584 2469 3576 \nQ 2541 3569 2628 3553 \nL 2631 2963 \nz\n\" id=\"DejaVuSans-72\" transform=\"scale(0.015625)\"/>\n       <path d=\"M 2194 1759 \nQ 1497 1759 1228 1600 \nQ 959 1441 959 1056 \nQ 959 750 1161 570 \nQ 1363 391 1709 391 \nQ 2188 391 2477 730 \nQ 2766 1069 2766 1631 \nL 2766 1759 \nL 2194 1759 \nz\nM 3341 1997 \nL 3341 0 \nL 2766 0 \nL 2766 531 \nQ 2569 213 2275 61 \nQ 1981 -91 1556 -91 \nQ 1019 -91 701 211 \nQ 384 513 384 1019 \nQ 384 1609 779 1909 \nQ 1175 2209 1959 2209 \nL 2766 2209 \nL 2766 2266 \nQ 2766 2663 2505 2880 \nQ 2244 3097 1772 3097 \nQ 1472 3097 1187 3025 \nQ 903 2953 641 2809 \nL 641 3341 \nQ 956 3463 1253 3523 \nQ 1550 3584 1831 3584 \nQ 2591 3584 2966 3190 \nQ 3341 2797 3341 1997 \nz\n\" id=\"DejaVuSans-61\" transform=\"scale(0.015625)\"/>\n       <path d=\"M 3513 2113 \nL 3513 0 \nL 2938 0 \nL 2938 2094 \nQ 2938 2591 2744 2837 \nQ 2550 3084 2163 3084 \nQ 1697 3084 1428 2787 \nQ 1159 2491 1159 1978 \nL 1159 0 \nL 581 0 \nL 581 3500 \nL 1159 3500 \nL 1159 2956 \nQ 1366 3272 1645 3428 \nQ 1925 3584 2291 3584 \nQ 2894 3584 3203 3211 \nQ 3513 2838 3513 2113 \nz\n\" id=\"DejaVuSans-6e\" transform=\"scale(0.015625)\"/>\n       <path d=\"M 191 3500 \nL 800 3500 \nL 1894 563 \nL 2988 3500 \nL 3597 3500 \nL 2284 0 \nL 1503 0 \nL 191 3500 \nz\n\" id=\"DejaVuSans-76\" transform=\"scale(0.015625)\"/>\n       <path d=\"M 1959 3097 \nQ 1497 3097 1228 2736 \nQ 959 2375 959 1747 \nQ 959 1119 1226 758 \nQ 1494 397 1959 397 \nQ 2419 397 2687 759 \nQ 2956 1122 2956 1747 \nQ 2956 2369 2687 2733 \nQ 2419 3097 1959 3097 \nz\nM 1959 3584 \nQ 2709 3584 3137 3096 \nQ 3566 2609 3566 1747 \nQ 3566 888 3137 398 \nQ 2709 -91 1959 -91 \nQ 1206 -91 779 398 \nQ 353 888 353 1747 \nQ 353 2609 779 3096 \nQ 1206 3584 1959 3584 \nz\n\" id=\"DejaVuSans-6f\" transform=\"scale(0.015625)\"/>\n       <path d=\"M 603 4863 \nL 1178 4863 \nL 1178 0 \nL 603 0 \nL 603 4863 \nz\n\" id=\"DejaVuSans-6c\" transform=\"scale(0.015625)\"/>\n       <path d=\"M 2906 1791 \nQ 2906 2416 2648 2759 \nQ 2391 3103 1925 3103 \nQ 1463 3103 1205 2759 \nQ 947 2416 947 1791 \nQ 947 1169 1205 825 \nQ 1463 481 1925 481 \nQ 2391 481 2648 825 \nQ 2906 1169 2906 1791 \nz\nM 3481 434 \nQ 3481 -459 3084 -895 \nQ 2688 -1331 1869 -1331 \nQ 1566 -1331 1297 -1286 \nQ 1028 -1241 775 -1147 \nL 775 -588 \nQ 1028 -725 1275 -790 \nQ 1522 -856 1778 -856 \nQ 2344 -856 2625 -561 \nQ 2906 -266 2906 331 \nL 2906 616 \nQ 2728 306 2450 153 \nQ 2172 0 1784 0 \nQ 1141 0 747 490 \nQ 353 981 353 1791 \nQ 353 2603 747 3093 \nQ 1141 3584 1784 3584 \nQ 2172 3584 2450 3431 \nQ 2728 3278 2906 2969 \nL 2906 3500 \nL 3481 3500 \nL 3481 434 \nz\n\" id=\"DejaVuSans-67\" transform=\"scale(0.015625)\"/>\n      </defs>\n      <use xlink:href=\"#DejaVuSans-6d\"/>\n      <use x=\"97.412109\" xlink:href=\"#DejaVuSans-65\"/>\n      <use x=\"158.935547\" xlink:href=\"#DejaVuSans-6d\"/>\n      <use x=\"256.347656\" xlink:href=\"#DejaVuSans-62\"/>\n      <use x=\"319.824219\" xlink:href=\"#DejaVuSans-72\"/>\n      <use x=\"360.9375\" xlink:href=\"#DejaVuSans-61\"/>\n      <use x=\"422.216797\" xlink:href=\"#DejaVuSans-6e\"/>\n      <use x=\"485.595703\" xlink:href=\"#DejaVuSans-65\"/>\n      <use x=\"547.119141\" xlink:href=\"#DejaVuSans-20\"/>\n      <use x=\"578.90625\" xlink:href=\"#DejaVuSans-76\"/>\n      <use x=\"638.085938\" xlink:href=\"#DejaVuSans-6f\"/>\n      <use x=\"699.267578\" xlink:href=\"#DejaVuSans-6c\"/>\n      <use x=\"727.050781\" xlink:href=\"#DejaVuSans-74\"/>\n      <use x=\"766.259766\" xlink:href=\"#DejaVuSans-61\"/>\n      <use x=\"827.539062\" xlink:href=\"#DejaVuSans-67\"/>\n      <use x=\"891.015625\" xlink:href=\"#DejaVuSans-65\"/>\n      <use x=\"952.539062\" xlink:href=\"#DejaVuSans-20\"/>\n      <use x=\"984.326172\" xlink:href=\"#DejaVuSans-28\"/>\n      <use x=\"1023.339844\" xlink:href=\"#DejaVuSans-6d\"/>\n      <use x=\"1120.751953\" xlink:href=\"#DejaVuSans-76\"/>\n      <use x=\"1179.931641\" xlink:href=\"#DejaVuSans-29\"/>\n      <use x=\"1218.945312\" xlink:href=\"#DejaVuSans-20\"/>\n     </g>\n    </g>\n   </g>\n   <g id=\"line2d_13\">\n    <path clip-path=\"url(#p18a51ec285)\" d=\"M 64.200994 198.872087 \nL 64.325276 199.513613 \nL 64.512967 199.625481 \nL 64.751385 199.456089 \nL 65.426058 198.600342 \nL 68.058803 194.887069 \nL 68.642167 193.618865 \nL 68.933849 192.464316 \nL 69.027694 191.248291 \nL 69.042913 185.339192 \nL 69.078422 21.589755 \nL 69.159585 175.574549 \nL 69.321913 206.26122 \nL 69.425903 207.993115 \nL 69.469022 207.826562 \nL 69.618667 205.912975 \nL 70.095503 200.272658 \nL 70.486103 198.195816 \nL 70.942649 196.914928 \nL 71.54884 195.888117 \nL 73.238058 193.304329 \nL 73.547494 192.273055 \nL 73.666703 191.132798 \nL 73.684458 187.416242 \nL 73.712358 115.023351 \nL 73.722503 22.153529 \nL 73.818885 182.892702 \nL 73.986285 206.757311 \nL 74.069985 207.769545 \nL 74.123249 207.515064 \nL 74.31094 204.906647 \nL 74.749731 199.819207 \nL 75.158085 197.551846 \nL 75.65014 196.0265 \nL 76.261403 194.842165 \nL 77.823803 192.170193 \nL 77.935403 191.171348 \nL 77.953158 187.882054 \nL 77.981058 124.509572 \nL 77.99374 22.302319 \nL 78.087585 182.535307 \nL 78.254985 206.814763 \nL 78.343758 207.906747 \nL 78.394485 207.680562 \nL 78.57964 205.29906 \nL 78.982922 201.142903 \nL 79.322794 199.708358 \nL 79.672813 199.095534 \nL 80.071022 198.830227 \nL 80.710185 198.712106 \nL 82.102649 198.464277 \nL 83.205967 198.00797 \nL 84.479222 197.232447 \nL 85.732185 196.213923 \nL 86.624985 195.217488 \nL 87.147476 194.315163 \nL 87.408722 193.424999 \nL 87.467058 192.506869 \nL 87.484813 178.896972 \nL 87.517785 21.17684 \nL 87.596413 174.825835 \nL 87.75874 206.523325 \nL 87.872876 208.494181 \nL 87.910922 208.375252 \nL 88.047885 206.885311 \nL 88.509503 202.186237 \nL 88.862058 200.737929 \nL 89.257731 199.98885 \nL 89.782758 199.480932 \nL 90.944413 198.759868 \nL 92.730013 197.555479 \nL 94.221394 196.28638 \nL 95.192822 195.185619 \nL 95.745749 194.237924 \nL 96.027285 193.320424 \nL 96.110985 192.316687 \nL 96.12874 181.133974 \nL 96.161713 21.105717 \nL 96.24034 174.14885 \nL 96.402667 206.424831 \nL 96.516803 208.413705 \nL 96.554849 208.291942 \nL 96.691813 206.779118 \nL 97.155967 201.970127 \nL 97.511058 200.473406 \nL 97.909267 199.69255 \nL 98.426685 199.171526 \nL 99.436158 198.538552 \nL 101.348576 197.296798 \nL 102.728358 196.135484 \nL 103.626231 195.106917 \nL 104.138576 194.197285 \nL 104.394749 193.293213 \nL 104.455622 192.407251 \nL 104.473376 180.258902 \nL 104.506349 21.04547 \nL 104.584976 174.408619 \nL 104.747303 206.464344 \nL 104.86144 208.447641 \nL 104.899485 208.327821 \nL 105.036449 206.828273 \nL 105.500603 202.075506 \nL 105.855694 200.611034 \nL 106.251367 199.859454 \nL 106.768785 199.360348 \nL 107.806158 198.741348 \nL 109.710967 197.551679 \nL 111.207422 196.353754 \nL 112.206749 195.286528 \nL 112.782503 194.361296 \nL 113.079258 193.470059 \nL 113.170567 192.503258 \nL 113.188322 182.772135 \nL 113.221294 21.601246 \nL 113.302458 175.151474 \nL 113.464785 206.526659 \nL 113.578922 208.459935 \nL 113.616967 208.333977 \nL 113.756467 206.795471 \nL 114.213013 202.135572 \nL 114.565567 200.679386 \nL 114.958703 199.936041 \nL 115.468513 199.452003 \nL 116.483058 198.865654 \nL 118.403085 197.708628 \nL 119.968022 196.502016 \nL 121.038367 195.413839 \nL 121.659776 194.480161 \nL 121.984431 193.602207 \nL 122.098567 192.667253 \nL 122.113785 188.729156 \nL 122.144222 92.245475 \nL 122.154367 21.188723 \nL 122.248213 182.664036 \nL 122.415613 207.258404 \nL 122.509458 208.469297 \nL 122.557649 208.282346 \nL 122.730122 206.238415 \nL 123.143549 202.17376 \nL 123.496103 200.72905 \nL 123.886703 200.001225 \nL 124.393976 199.531394 \nL 125.405985 198.96792 \nL 127.313331 197.8567 \nL 128.93914 196.646141 \nL 130.080503 195.537438 \nL 130.747567 194.595713 \nL 131.102658 193.720233 \nL 131.239622 192.794143 \nL 131.257376 189.360885 \nL 131.287813 108.003002 \nL 131.297958 21.075943 \nL 131.391803 182.225616 \nL 131.559203 207.236209 \nL 131.653049 208.480165 \nL 131.703776 208.283349 \nL 131.881322 206.166675 \nL 132.289676 202.196366 \nL 132.639694 200.775935 \nL 133.027758 200.062072 \nL 133.529958 199.607025 \nL 134.531822 199.068604 \nL 136.429022 198.000177 \nL 138.108094 196.790992 \nL 139.323013 195.660964 \nL 140.038267 194.709047 \nL 140.423794 193.837672 \nL 140.583585 192.952612 \nL 140.603876 191.548492 \nL 140.636849 128.785511 \nL 140.649531 21.069294 \nL 140.743376 182.532329 \nL 140.910776 207.261947 \nL 141.004622 208.486513 \nL 141.052813 208.304065 \nL 141.222749 206.306219 \nL 141.636176 202.250258 \nL 141.986194 200.827054 \nL 142.371722 200.122017 \nL 142.868849 199.679351 \nL 143.855494 199.167308 \nL 145.740013 198.142983 \nL 147.467276 196.939375 \nL 148.760822 195.78568 \nL 149.526803 194.822427 \nL 149.945303 193.950327 \nL 150.130458 193.060586 \nL 150.155822 191.936437 \nL 150.186258 149.701935 \nL 150.201476 21.357203 \nL 150.290249 179.544584 \nL 150.455113 206.969416 \nL 150.559103 208.496863 \nL 150.602222 208.341136 \nL 150.759476 206.542567 \nL 151.188122 202.286527 \nL 151.535603 200.876856 \nL 151.918594 200.180678 \nL 152.410649 199.749823 \nL 153.382076 199.262528 \nL 155.253913 198.279518 \nL 157.019222 197.086881 \nL 158.393931 195.908119 \nL 159.213176 194.930744 \nL 159.664649 194.057123 \nL 159.875167 193.161631 \nL 159.90814 192.013974 \nL 159.938576 150.618833 \nL 159.953794 21.595681 \nL 160.042567 179.405527 \nL 160.207431 206.965358 \nL 160.311422 208.504816 \nL 160.35454 208.351727 \nL 160.509258 206.592842 \nL 160.937903 202.329234 \nL 161.285385 200.920684 \nL 161.66584 200.234196 \nL 162.152822 199.815106 \nL 163.109031 199.351573 \nL 164.965649 198.409468 \nL 165.696122 197.868805 \nL 165.749385 195.112574 \nL 165.926931 174.266035 \nL 165.949758 132.968651 \nL 165.96244 17.333826 \nL 166.056285 180.386085 \nL 166.218613 202.809738 \nL 166.256658 203.144614 \nL 166.314994 202.591148 \nL 166.505222 197.359759 \nL 166.769003 185.745608 \nL 166.867922 162.205879 \nL 166.890749 25.34495 \nL 166.969376 174.747422 \nL 167.129167 202.590183 \nL 167.200185 203.508615 \nL 167.255985 203.145614 \nL 167.499476 199.045265 \nL 167.781013 192.734735 \nL 167.99914 166.903373 \nL 168.014358 103.418027 \nL 168.024503 23.301849 \nL 168.118349 182.2361 \nL 168.285749 205.887292 \nL 168.387203 207.084002 \nL 168.432858 206.953982 \nL 168.630694 205.321566 \nL 168.765122 203.391307 \nL 169.110067 189.424596 \nL 169.148113 189.334335 \nL 169.201376 189.521061 \nL 169.340876 191.162059 \nL 169.754303 197.644335 \nL 169.792349 196.600432 \nL 170.14744 185.201352 \nL 170.292013 183.871154 \nL 170.317376 136.472933 \nL 170.330058 25.307414 \nL 170.421367 181.235422 \nL 170.591303 208.797777 \nL 170.768849 211.628927 \nL 170.822113 211.663125 \nL 170.875376 211.600547 \nL 171.205103 211.269974 \nL 171.392794 211.473185 \nL 171.829049 212.384299 \nL 172.610249 213.872088 \nL 173.165713 214.473856 \nL 173.683131 214.724163 \nL 174.210694 214.73325 \nL 174.801667 214.511538 \nL 175.514385 213.991443 \nL 176.412258 213.041502 \nL 177.614494 211.418869 \nL 179.722213 208.128063 \nL 182.271258 204.275353 \nL 184.051785 201.991832 \nL 185.844994 200.054762 \nL 188.084603 197.985276 \nL 190.354649 195.834898 \nL 191.059758 194.858113 \nL 191.409776 194.001784 \nL 191.541667 193.097144 \nL 191.559422 189.610263 \nL 191.589858 111.320021 \nL 191.600003 21.005921 \nL 191.696385 183.155693 \nL 191.863785 207.457044 \nL 191.960167 208.696985 \nL 192.008358 208.516952 \nL 192.185903 206.511379 \nL 192.581576 202.913916 \nL 192.918913 201.682389 \nL 193.286685 201.115166 \nL 193.773667 200.783233 \nL 195.247294 200.20473 \nL 196.817303 199.408738 \nL 199.02394 198.017434 \nL 201.080931 196.485367 \nL 202.136058 195.445256 \nL 202.691522 194.602295 \nL 202.967985 193.781923 \nL 203.033931 192.919712 \nL 203.051685 181.119282 \nL 203.084658 20.938734 \nL 203.163285 174.007942 \nL 203.325613 206.584923 \nL 203.444822 208.667579 \nL 203.480331 208.560452 \nL 203.614758 207.172105 \nL 204.066231 202.822385 \nL 204.403567 201.573721 \nL 204.768803 201.006391 \nL 205.238031 200.6945 \nL 206.336276 200.326399 \nL 207.822585 199.716721 \nL 209.686813 198.686798 \nL 212.101431 197.097174 \nL 213.580131 195.888279 \nL 214.358794 194.98259 \nL 214.767149 194.179582 \nL 214.939622 193.360401 \nL 214.962449 191.496607 \nL 214.995422 122.517457 \nL 215.008103 21.2374 \nL 215.101949 182.845067 \nL 215.269349 207.397148 \nL 215.365731 208.641526 \nL 215.413922 208.458199 \nL 215.591467 206.424372 \nL 215.989676 202.739761 \nL 216.327013 201.483727 \nL 216.689713 200.918001 \nL 217.148794 200.616038 \nL 218.140513 200.308846 \nL 219.629358 199.760449 \nL 221.384522 198.851552 \nL 223.778849 197.350945 \nL 225.452849 196.070818 \nL 226.335503 195.135095 \nL 226.804731 194.328481 \nL 227.025394 193.515718 \nL 227.060903 192.48941 \nL 227.088803 159.306683 \nL 227.109094 20.916209 \nL 227.190258 176.031476 \nL 227.355122 206.811163 \nL 227.466722 208.629723 \nL 227.507303 208.499139 \nL 227.654413 206.907772 \nL 228.088131 202.728933 \nL 228.425467 201.458263 \nL 228.785631 200.890874 \nL 229.23964 200.591952 \nL 230.180631 200.311618 \nL 231.679622 199.790568 \nL 233.386594 198.935719 \nL 235.758094 197.485984 \nL 237.538622 196.16802 \nL 238.479613 195.214365 \nL 238.981813 194.404278 \nL 239.225303 193.600307 \nL 239.270958 192.843686 \nL 239.288713 180.857899 \nL 239.321685 20.943078 \nL 239.400313 174.144743 \nL 239.56264 206.572756 \nL 239.679313 208.628241 \nL 239.717358 208.514642 \nL 239.854322 207.073416 \nL 240.303258 202.707609 \nL 240.640594 201.443001 \nL 241.000758 200.879602 \nL 241.454767 200.584948 \nL 242.393222 200.313749 \nL 243.884603 199.808231 \nL 245.576358 198.974068 \nL 247.945322 197.543376 \nL 249.776576 196.208265 \nL 250.742931 195.248246 \nL 251.260349 194.435724 \nL 251.513985 193.630727 \nL 251.564713 192.857008 \nL 251.582467 181.197315 \nL 251.61544 21.00022 \nL 251.694067 174.030677 \nL 251.856394 206.563636 \nL 251.973067 208.626014 \nL 252.011113 208.513137 \nL 252.148076 207.072321 \nL 252.597013 202.704474 \nL 252.934349 201.440264 \nL 253.294513 200.87844 \nL 253.745985 200.587539 \nL 254.676831 200.323966 \nL 256.165676 199.829744 \nL 257.844749 199.012139 \nL 260.213713 197.595483 \nL 262.090622 196.244272 \nL 263.079803 195.277691 \nL 263.609903 194.463133 \nL 263.871149 193.660964 \nL 263.926949 192.857766 \nL 263.944703 181.139964 \nL 263.977676 20.989822 \nL 264.056303 174.050426 \nL 264.218631 206.565158 \nL 264.335303 208.625558 \nL 264.373349 208.51236 \nL 264.510313 207.071043 \nL 264.959249 202.704447 \nL 265.296585 201.442045 \nL 265.656749 200.882322 \nL 266.108222 200.594045 \nL 267.039067 200.335467 \nL 267.150667 200.213128 \nL 267.203931 197.465144 \nL 267.414449 174.669202 \nL 267.439813 143.430207 \nL 267.455031 17.083636 \nL 267.543803 178.454524 \nL 267.706131 203.010234 \nL 267.751785 203.476892 \nL 267.810122 202.932759 \nL 268.007958 197.725972 \nL 268.223549 188.12612 \nL 268.347831 162.293277 \nL 268.368122 25.202963 \nL 268.449285 174.965052 \nL 268.609076 203.007266 \nL 268.685167 204.009748 \nL 268.740967 203.671727 \nL 269.02504 199.444454 \nL 269.22034 195.595121 \nL 269.506949 166.640754 \nL 269.529776 23.828078 \nL 269.608403 174.142799 \nL 269.768194 205.623973 \nL 269.907694 207.940837 \nL 269.930522 207.912647 \nL 270.031976 207.364268 \nL 270.217131 205.274469 \nL 270.554467 192.433381 \nL 270.569685 192.423811 \nL 270.610267 192.549131 \nL 270.734549 193.871062 \nL 271.206313 200.857567 \nL 271.246894 199.742134 \nL 271.551258 190.374529 \nL 271.566476 190.370446 \nL 271.599449 190.48018 \nL 271.711049 191.773574 \nL 272.745885 206.893062 \nL 273.263303 210.066346 \nL 273.803549 212.0992 \nL 274.331113 213.287431 \nL 274.835849 213.918533 \nL 275.322831 214.191617 \nL 275.819958 214.218352 \nL 276.383031 214.016781 \nL 277.075458 213.516386 \nL 277.970794 212.573823 \nL 279.223758 210.900985 \nL 284.958476 202.82385 \nL 286.670522 201.029802 \nL 288.52714 199.410512 \nL 291.147203 197.455755 \nL 293.013967 195.959316 \nL 293.729222 195.112355 \nL 294.084313 194.355289 \nL 294.203522 193.594738 \nL 294.221276 189.719246 \nL 294.251713 109.71079 \nL 294.261858 20.782298 \nL 294.35824 183.23746 \nL 294.52564 207.558794 \nL 294.624558 208.834457 \nL 294.670213 208.673865 \nL 294.840149 206.839303 \nL 295.235822 203.358809 \nL 295.563013 202.245366 \nL 295.910494 201.780331 \nL 296.364503 201.553831 \nL 299.560322 200.48196 \nL 301.868413 199.189457 \nL 305.916449 196.671092 \nL 307.138976 195.668248 \nL 307.752776 194.893863 \nL 308.059676 194.155984 \nL 308.135767 193.468908 \nL 308.150985 189.278896 \nL 308.181422 99.623063 \nL 308.191567 20.748994 \nL 308.285413 182.487927 \nL 308.452813 207.460656 \nL 308.551731 208.772476 \nL 308.597385 208.614491 \nL 308.762249 206.82048 \nL 309.165531 203.178522 \nL 309.492722 202.030161 \nL 309.840203 201.54812 \nL 310.278994 201.325712 \nL 311.382313 201.121998 \nL 312.640349 200.757584 \nL 314.19514 200.053438 \nL 316.974994 198.506074 \nL 320.127694 196.543849 \nL 321.291885 195.575048 \nL 321.887931 194.806565 \nL 322.187222 194.064944 \nL 322.25824 193.391582 \nL 322.273458 189.119644 \nL 322.303894 96.318272 \nL 322.31404 20.831387 \nL 322.407885 182.588098 \nL 322.575285 207.44613 \nL 322.674203 208.739181 \nL 322.719858 208.574522 \nL 322.887258 206.728121 \nL 323.288003 203.078775 \nL 323.617731 201.904735 \nL 323.965213 201.414914 \nL 324.398931 201.191633 \nL 325.38304 201.021611 \nL 326.661367 200.695693 \nL 328.14514 200.066485 \nL 330.574976 198.759137 \nL 333.930585 196.721341 \nL 335.234276 195.69332 \nL 335.90134 194.900769 \nL 336.241213 194.162422 \nL 336.34774 193.428956 \nL 336.362958 190.543121 \nL 336.393394 126.74309 \nL 336.406076 20.911653 \nL 336.499922 182.665044 \nL 336.667322 207.439835 \nL 336.76624 208.720629 \nL 336.811894 208.551839 \nL 336.981831 206.661379 \nL 337.382576 203.009027 \nL 337.712303 201.831702 \nL 338.059785 201.337948 \nL 338.490967 201.112539 \nL 339.434494 200.949172 \nL 340.735649 200.629514 \nL 342.209276 200.016313 \nL 344.560485 198.764071 \nL 347.837467 196.781476 \nL 349.189349 195.729832 \nL 349.881776 194.926299 \nL 350.236867 194.185372 \nL 350.356076 193.468846 \nL 350.373831 190.574041 \nL 350.404267 127.443553 \nL 350.416949 20.896396 \nL 350.510794 182.631948 \nL 350.678194 207.429008 \nL 350.774576 208.708024 \nL 350.822767 208.537696 \nL 350.992703 206.640682 \nL 351.393449 202.973936 \nL 351.723176 201.78865 \nL 352.070658 201.289457 \nL 352.50184 201.060046 \nL 353.425076 200.896768 \nL 354.743985 200.575579 \nL 356.217613 199.965621 \nL 358.543458 198.730637 \nL 361.729131 196.801475 \nL 363.096231 195.740623 \nL 363.798803 194.930784 \nL 364.161503 194.182665 \nL 364.285785 193.450257 \nL 364.30354 190.621738 \nL 364.333976 128.351717 \nL 364.346658 20.873553 \nL 364.440503 182.58735 \nL 364.607903 207.419515 \nL 364.704285 208.698744 \nL 364.752476 208.527671 \nL 364.922413 206.626427 \nL 365.323158 202.949601 \nL 365.652885 201.758665 \nL 366.000367 201.255389 \nL 366.431549 201.022606 \nL 367.342103 200.857702 \nL 368.564631 200.569054 \nL 368.564631 200.569054 \n\" style=\"fill:none;stroke:#0000ff;stroke-linecap:square;stroke-width:1.5;\"/>\n   </g>\n   <g id=\"patch_3\">\n    <path d=\"M 48.982813 224.64 \nL 48.982813 7.2 \n\" style=\"fill:none;stroke:#000000;stroke-linecap:square;stroke-linejoin:miter;stroke-width:0.8;\"/>\n   </g>\n   <g id=\"patch_4\">\n    <path d=\"M 383.782813 224.64 \nL 383.782813 7.2 \n\" style=\"fill:none;stroke:#000000;stroke-linecap:square;stroke-linejoin:miter;stroke-width:0.8;\"/>\n   </g>\n   <g id=\"patch_5\">\n    <path d=\"M 48.982813 224.64 \nL 383.782813 224.64 \n\" style=\"fill:none;stroke:#000000;stroke-linecap:square;stroke-linejoin:miter;stroke-width:0.8;\"/>\n   </g>\n   <g id=\"patch_6\">\n    <path d=\"M 48.982813 7.2 \nL 383.782813 7.2 \n\" style=\"fill:none;stroke:#000000;stroke-linecap:square;stroke-linejoin:miter;stroke-width:0.8;\"/>\n   </g>\n  </g>\n </g>\n <defs>\n  <clipPath id=\"p18a51ec285\">\n   <rect height=\"217.44\" width=\"334.8\" x=\"48.982813\" y=\"7.2\"/>\n  </clipPath>\n </defs>\n</svg>\n",
      "image/png": "[encoded data removed]"
     },
     "metadata": {
      "needs_background": "light"
     }
    }
   ],
   "metadata": {}
  }
 ],
 "metadata": {
  "orig_nbformat": 4,
  "language_info": {
   "name": "python",
   "version": "3.9.6",
   "mimetype": "text/x-python",
   "codemirror_mode": {
    "name": "ipython",
    "version": 3
   },
   "pygments_lexer": "ipython3",
   "nbconvert_exporter": "python",
   "file_extension": ".py"
  },
  "kernelspec": {
   "name": "python3",
   "display_name": "Python 3.9.6 64-bit"
  },
  "interpreter": {
   "hash": "aee8b7b246df8f9039afb4144a1f6fd8d2ca17a180786b69acc140d282b71a49"
  }
 },
 "nbformat": 4,
 "nbformat_minor": 2
}