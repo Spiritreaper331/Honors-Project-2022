{
    "cells": [
        {
            "cell_type": "code",
            "execution_count": 1,
            "source": [
                "from neuron import h\n",
                "import multiprocessing\n",
                "import numpy as np\n",
                "import matplotlib.pyplot as plt\n",
                "%load_ext autoreload\n",
                "%autoreload 2\n",
                "from Cereb_GrC_regular import Grc_regular"
            ],
            "outputs": [],
            "metadata": {}
        },
        {
            "cell_type": "code",
            "execution_count": 2,
            "source": [
                "subtype_1 = \"regular\"\n",
                "cell_1 = Grc_regular(1, subtype_1)\n",
                "subtype_2 = \"regular\"\n",
                "cell_2 = Grc_regular(1, subtype_2)\n",
                "subtype_3 = \"regular\"\n",
                "cell_3 = Grc_regular(1, subtype_3)\n",
                "subtype_4 = \"regular\"\n",
                "cell_4 = Grc_regular(1, subtype_4)\n",
                "\n",
                "time_step = h.CVode()\n",
                "time_step.active(0) #0 fixed step, 1 variable time step\n",
                "\n",
                "cpu = multiprocessing.cpu_count() // 2\n",
                "h.load_file(\"parcom.hoc\")\n",
                "p = h.ParallelComputeTool()\n",
                "if cpu > 8:\n",
                "    p.change_nthread(8,1)\n",
                "    print('Maximum 8 threads')\n",
                "else:\n",
                "    p.change_nthread(cpu,1)    \n",
                "    print('N° of treads', cpu)\n",
                "p.multisplit(1)"
            ],
            "outputs": [
                {
                    "output_type": "stream",
                    "name": "stdout",
                    "text": [
                        "\n",
                        "103 lines read\n",
                        "\n",
                        "103 lines read\n",
                        "\n",
                        "103 lines read\n",
                        "\n",
                        "103 lines read\n"
                    ]
                },
                {
                    "output_type": "execute_result",
                    "data": {
                        "text/plain": [
                            "0.0"
                        ]
                    },
                    "metadata": {},
                    "execution_count": 2
                }
            ],
            "metadata": {}
        },
        {
            "cell_type": "code",
            "execution_count": 3,
            "source": [
                "h.dt = 0.025\n",
                "h.celsius = 32\n",
                "h.tstop = 5000\n",
                "h.v_init = -70\n",
                "\n",
                "stimdata = [\n",
                "    [100, 1500, 0.01],  # delay, duration, amplitude\n",
                "    # [1700, 1500, 0.016],\n",
                "    # [3300, 1500, 0.022],\n",
                "]\n",
                "\n",
                "for i, (delay, duration, amplitude) in enumerate(stimdata):\n",
                "    stim = [h.IClamp(0.5, sec=cell_1.soma[0])]\n",
                "    stim[0].delay = delay\n",
                "    stim[0].dur = duration\n",
                "    stim[0].amp = amplitude\n",
                "\n",
                "    def initialize():\n",
                "        h.finitialize()\n",
                "        h.run()\n",
                "    \n",
                "    initialize()\n",
                "    \n",
                "# find the best way to have these functions running for all four cell types \n",
                "    img = plt.plot(np.array(cell_1.time_vector), np.array(cell_1.vm_soma))\n",
                "    plt.xlabel(\"Time\")\n",
                "    plt.ylabel(\"Amplitude\")"
            ],
            "outputs": [],
            "metadata": {}
        }
    ],
    "metadata": {
        "orig_nbformat": 4,
        "language_info": {
            "name": "python",
            "version": "3.9.6",
            "mimetype": "text/x-python",
            "codemirror_mode": {
                "name": "ipython",
                "version": 3
            },
            "pygments_lexer": "ipython3",
            "nbconvert_exporter": "python",
            "file_extension": ".py"
        },
        "kernelspec": {
            "name": "python3",
            "display_name": "Python 3.9.6 64-bit"
        },
        "interpreter": {
            "hash": "aee8b7b246df8f9039afb4144a1f6fd8d2ca17a180786b69acc140d282b71a49"
        }
    },
    "nbformat": 4,
    "nbformat_minor": 2
}