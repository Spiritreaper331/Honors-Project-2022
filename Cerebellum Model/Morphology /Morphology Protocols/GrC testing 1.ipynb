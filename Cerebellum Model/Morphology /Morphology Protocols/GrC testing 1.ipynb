{
    "cells": [
        {
            "cell_type": "code",
            "execution_count": 1,
            "source": [
                "from neuron import h\n",
                "import multiprocessing\n",
                "import numpy as np\n",
                "import matplotlib.pyplot as plt"
            ],
            "outputs": [],
            "metadata": {}
        },
        {
            "cell_type": "code",
            "execution_count": 1,
            "source": [
                "%load_ext autoreload\n",
                "%autoreload 2"
            ],
            "outputs": [],
            "metadata": {}
        },
        {
            "cell_type": "code",
            "execution_count": null,
            "source": [
                "from Cereb_GrC_regular import Grc_regular"
            ],
            "outputs": [],
            "metadata": {}
        },
        {
            "cell_type": "code",
            "execution_count": 2,
            "source": [
                "cell = Grc_regular(1, \"accerlate\")\n",
                "\n",
                "time_step = h.CVode()\n",
                "time_step.active(0) #0 fixed step, 1 variable time step\n",
                "\n",
                "cpu = min(multiprocessing.cpu_count() // 2, 8)\n",
                "h.load_file(\"parcom.hoc\")\n",
                "p = h.ParallelComputeTool()\n",
                "p.change_nthread(cpu, 1)\n",
                "p.multisplit(1)"
            ],
            "outputs": [
                {
                    "output_type": "error",
                    "ename": "TypeError",
                    "evalue": "__init__() missing 1 required positional argument: 'subtype'",
                    "traceback": [
                        "\u001b[0;31m---------------------------------------------------------------------------\u001b[0m",
                        "\u001b[0;31mTypeError\u001b[0m                                 Traceback (most recent call last)",
                        "\u001b[0;32m/var/folders/jd/9b61vw6x2xdflvtkv6560s3c0000gn/T/ipykernel_40919/658773580.py\u001b[0m in \u001b[0;36m<module>\u001b[0;34m\u001b[0m\n\u001b[0;32m----> 1\u001b[0;31m \u001b[0mcell\u001b[0m \u001b[0;34m=\u001b[0m \u001b[0mGrc_regular\u001b[0m\u001b[0;34m(\u001b[0m\u001b[0;36m1\u001b[0m\u001b[0;34m)\u001b[0m\u001b[0;34m\u001b[0m\u001b[0;34m\u001b[0m\u001b[0m\n\u001b[0m\u001b[1;32m      2\u001b[0m \u001b[0;34m\u001b[0m\u001b[0m\n\u001b[1;32m      3\u001b[0m \u001b[0mtime_step\u001b[0m \u001b[0;34m=\u001b[0m \u001b[0mh\u001b[0m\u001b[0;34m.\u001b[0m\u001b[0mCVode\u001b[0m\u001b[0;34m(\u001b[0m\u001b[0;34m)\u001b[0m\u001b[0;34m\u001b[0m\u001b[0;34m\u001b[0m\u001b[0m\n\u001b[1;32m      4\u001b[0m \u001b[0mtime_step\u001b[0m\u001b[0;34m.\u001b[0m\u001b[0mactive\u001b[0m\u001b[0;34m(\u001b[0m\u001b[0;36m0\u001b[0m\u001b[0;34m)\u001b[0m \u001b[0;31m#0 fixed step, 1 variable time step\u001b[0m\u001b[0;34m\u001b[0m\u001b[0;34m\u001b[0m\u001b[0m\n\u001b[1;32m      5\u001b[0m \u001b[0;34m\u001b[0m\u001b[0m\n",
                        "\u001b[0;31mTypeError\u001b[0m: __init__() missing 1 required positional argument: 'subtype'"
                    ]
                }
            ],
            "metadata": {}
        },
        {
            "cell_type": "code",
            "execution_count": null,
            "source": [
                "h.dt = 0.025\n",
                "h.celsius = 32\n",
                "h.tstop = 5000\n",
                "h.v_init = -70\n",
                "\n",
                "stimdata = [\n",
                "    [100, 1500, 0.01],  # delay, duration, amplitude\n",
                "    [1700, 1500, 0.016],\n",
                "    [3300, 1500, 0.022],\n",
                "]\n",
                "\n",
                "for i, (delay, duration, amplitude) in enumerate(stimdata):\n",
                "    stim = [h.IClamp(0.5, sec=cell.soma[0])]\n",
                "    stim[0].delay = delay\n",
                "    stim[0].dur = duration\n",
                "    stim[0].amp = amplitude\n",
                "\n",
                "    def initialize():\n",
                "        h.finitialize()\n",
                "        h.run()\n",
                "    \n",
                "    initialize()\n",
                "\n",
                "    img = plt.plot(np.array(cell.time_vector), np.array(cell.vm_soma))\n",
                "    plt.xlabel(\"Time\")\n",
                "    plt.ylabel(\"Amplitude\")"
            ],
            "outputs": [],
            "metadata": {}
        },
        {
            "cell_type": "code",
            "execution_count": null,
            "source": [],
            "outputs": [],
            "metadata": {}
        }
    ],
    "metadata": {
        "orig_nbformat": 4,
        "language_info": {
            "name": "python",
            "version": "3.9.6",
            "mimetype": "text/x-python",
            "codemirror_mode": {
                "name": "ipython",
                "version": 3
            },
            "pygments_lexer": "ipython3",
            "nbconvert_exporter": "python",
            "file_extension": ".py"
        },
        "kernelspec": {
            "name": "python3",
            "display_name": "Python 3.9.6 64-bit"
        },
        "interpreter": {
            "hash": "aee8b7b246df8f9039afb4144a1f6fd8d2ca17a180786b69acc140d282b71a49"
        }
    },
    "nbformat": 4,
    "nbformat_minor": 2
}