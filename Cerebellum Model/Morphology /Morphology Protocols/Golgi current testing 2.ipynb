{
 "cells": [
  {
   "cell_type": "markdown",
   "source": [
    "Golgi2020 Morphology 2 current injections protocol\n"
   ],
   "metadata": {}
  },
  {
   "cell_type": "code",
   "execution_count": 1,
   "source": [
    "import matplotlib.pyplot as plt\n",
    "from neuron import h\n",
    "from Golgi2020_morpho_1 import Golgi_morpho_1\n",
    "import multiprocessing\n",
    "import numpy as np"
   ],
   "outputs": [],
   "metadata": {}
  },
  {
   "cell_type": "code",
   "execution_count": 2,
   "source": [
    "#Instantiation of the cell template\n",
    "cell = Golgi_morpho_1(2)\n",
    "\n",
    "#fixed time step only\n",
    "Fixed_step = h.CVode()\n",
    "Fixed_step.active(0)"
   ],
   "outputs": [
    {
     "output_type": "stream",
     "name": "stdout",
     "text": [
      "\n",
      "5456 lines read\n",
      "\n",
      "morphology/pair-140514-C2-1_split_2.asc problems\n",
      "\n",
      "\n",
      "Main branch starting at line 58 is outside the soma bounding boxes\n",
      "  Making a logical connection to center of nearest soma\n",
      "\n",
      "Main branch starting at line 2375 is outside the soma bounding boxes\n",
      "  Making a logical connection to center of nearest soma\n"
     ]
    },
    {
     "output_type": "execute_result",
     "data": {
      "text/plain": [
       "False"
      ]
     },
     "metadata": {},
     "execution_count": 2
    }
   ],
   "metadata": {}
  },
  {
   "cell_type": "code",
   "execution_count": null,
   "source": [
    "#this code discover the number of cores available in a CPU and activate the multisplit to use them all.\n",
    "cpu = multiprocessing.cpu_count() // 2\n",
    "h.load_file(\"parcom.hoc\")\n",
    "p = h.ParallelComputeTool()\n",
    "p.change_nthread(cpu,1)\n",
    "p.multisplit(1)\n",
    "stimdata = dict()"
   ],
   "outputs": [],
   "metadata": {}
  },
  {
   "cell_type": "code",
   "execution_count": null,
   "source": [
    "#Basic properties of the simulation. dt, temperature, sim duration and initial voltage\n",
    "h.dt = 0.025  # change in time b etween steps (ms)\n",
    "h.celsius = 32  # temperature of the neurons (*C)\n",
    "h.tstop = 3000  # time to stop the entire simulation (ms)\n",
    "h.v_init = -65  # intiial membrane potential (mV)\n",
    "   \n",
    "stimdata = [\n",
    "    [1000, 1000, 0.1],  # delay, duration, amplitude\n",
    "    #[1000, 1000, 0.2],\n",
    "    #[1000, 1000, 0.3],\n",
    "    #[1000, 1000, 0.4],\n",
    "    #[1000, 1000, 0.5],\n",
    "    #[1000, 1000, 0.6],\n",
    "    \n",
    "]\n",
    "\n",
    "for i, (delay, duration, amplitude) in enumerate(stimdata):\n",
    "    stim = [h.IClamp(0.5, sec=cell.soma[0])]\n",
    "    stim[0].delay = delay\n",
    "    stim[0].dur = duration\n",
    "    stim[0].amp = amplitude\n",
    "\n",
    "    #Initialization \n",
    "    h.finitialize()\n",
    "    h.run()\n",
    "\n",
    "    # Save the results into an image\n",
    "    fig, ax = plt.subplots()\n",
    "    ax.plot(np.array(cell.time_vector), np.array(cell.vm), 'b', label='spikes')\n",
    "    plt.xlabel(\"time (ms)\")\n",
    "    plt.ylabel(\"membrane voltage (mv) \")"
   ],
   "outputs": [
    {
     "output_type": "error",
     "ename": "Error",
     "evalue": "Session cannot generate requests",
     "traceback": [
      "Error: Session cannot generate requests",
      "at w.executeCodeCell (/Users/tylerrivera/.vscode/extensions/ms-toolsai.jupyter-2021.8.1236758218/out/client/extension.js:90:327199)",
      "at w.execute (/Users/tylerrivera/.vscode/extensions/ms-toolsai.jupyter-2021.8.1236758218/out/client/extension.js:90:326520)",
      "at w.start (/Users/tylerrivera/.vscode/extensions/ms-toolsai.jupyter-2021.8.1236758218/out/client/extension.js:90:322336)",
      "at runMicrotasks (<anonymous>)",
      "at processTicksAndRejections (internal/process/task_queues.js:93:5)",
      "at async t.CellExecutionQueue.executeQueuedCells (/Users/tylerrivera/.vscode/extensions/ms-toolsai.jupyter-2021.8.1236758218/out/client/extension.js:90:336863)",
      "at async t.CellExecutionQueue.start (/Users/tylerrivera/.vscode/extensions/ms-toolsai.jupyter-2021.8.1236758218/out/client/extension.js:90:336403)"
     ]
    }
   ],
   "metadata": {}
  },
  {
   "cell_type": "code",
   "execution_count": null,
   "source": [],
   "outputs": [],
   "metadata": {}
  }
 ],
 "metadata": {
  "orig_nbformat": 4,
  "language_info": {
   "name": "python",
   "version": "3.9.6",
   "mimetype": "text/x-python",
   "codemirror_mode": {
    "name": "ipython",
    "version": 3
   },
   "pygments_lexer": "ipython3",
   "nbconvert_exporter": "python",
   "file_extension": ".py"
  },
  "kernelspec": {
   "name": "python3",
   "display_name": "Python 3.9.6 64-bit"
  },
  "interpreter": {
   "hash": "aee8b7b246df8f9039afb4144a1f6fd8d2ca17a180786b69acc140d282b71a49"
  }
 },
 "nbformat": 4,
 "nbformat_minor": 2
}