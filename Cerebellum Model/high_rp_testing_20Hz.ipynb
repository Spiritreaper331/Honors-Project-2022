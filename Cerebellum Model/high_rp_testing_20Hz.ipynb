{
 "cells": [
  {
   "cell_type": "code",
   "execution_count": 1,
   "metadata": {},
   "outputs": [],
   "source": [
    "import multiprocessing\n",
    "from functools import reduce\n",
    "import operator\n",
    "import random\n",
    "import h5py\n",
    "\n",
    "import numpy as np\n",
    "import scipy as sp\n",
    "from scipy import signal\n",
    "from scipy.stats import truncnorm\n",
    "import matplotlib.pyplot as plt\n",
    "from neuron import h\n",
    "\n",
    "%load_ext autoreload\n",
    "%autoreload 2\n",
    "\n",
    "from GrC import GrC\n",
    "from Golgi import Golgi\n",
    "from utils import export_data\n",
    "\n",
    "# Random generator\n",
    "local_random = np.random.default_rng(123)\n",
    "\n",
    "np.random.seed(42)"
   ]
  },
  {
   "cell_type": "code",
   "execution_count": 2,
   "metadata": {},
   "outputs": [
    {
     "name": "stdout",
     "output_type": "stream",
     "text": [
      "\n",
      "5394 lines read\n",
      "\n",
      "5456 lines read\n",
      "\n",
      "morphology/pair-140514-C2-1_split_2.asc problems\n",
      "\n",
      "\n",
      "Main branch starting at line 58 is outside the soma bounding boxes\n",
      "  Making a logical connection to center of nearest soma\n",
      "\n",
      "Main branch starting at line 2375 is outside the soma bounding boxes\n",
      "  Making a logical connection to center of nearest soma\n",
      "\n",
      "103 lines read\n",
      "\n",
      "103 lines read\n",
      "\n",
      "103 lines read\n",
      "\n",
      "103 lines read\n",
      "\n",
      "103 lines read\n",
      "\n",
      "103 lines read\n",
      "\n",
      "103 lines read\n",
      "\n",
      "103 lines read\n",
      "\n",
      "103 lines read\n",
      "\n",
      "103 lines read\n"
     ]
    }
   ],
   "source": [
    "# Instantiation of the cell templates\n",
    "\n",
    "golgi_cells = [[Golgi(i, morpho) for i in range(count)] for morpho, count in (\n",
    "    (1, 1),  # morpho 1\n",
    "    (2, 1),  # morpho 2\n",
    " )]\n",
    "\n",
    "golgi_cells = reduce(operator.concat, golgi_cells)\n",
    "\n",
    "grc_cells = [[GrC(i, subtype) for i in range(count)] for subtype, count in (\n",
    "    (\"regular\", 2), # 20%\n",
    "    (\"mild\", 3), # 30%\n",
    "    (\"adapting\", 4), # 40%\n",
    "    (\"accelerate\", 1), # 10%\n",
    ")]\n",
    "\n",
    "grc_cells = reduce(operator.concat, grc_cells)\n",
    "\n",
    "ascending_axons = sum((grc_cell.HD_aa for grc_cell in grc_cells), [])\n",
    "parallel_fibers = sum((grc_cell.HD_pf for grc_cell in grc_cells), [])\n",
    "\n"
   ]
  },
  {
   "cell_type": "code",
   "execution_count": 3,
   "metadata": {},
   "outputs": [
    {
     "data": {
      "text/plain": [
       "Vector[32241]"
      ]
     },
     "execution_count": 3,
     "metadata": {},
     "output_type": "execute_result"
    }
   ],
   "source": [
    "# Fixed time step only\n",
    "time_step = h.CVode()\n",
    "time_step.active(0)  # 0 fixed step, 1 variable time step\n",
    "\n",
    "DO_IMPEDANCE_MEASUREMENT = False\n",
    "\n",
    "if DO_IMPEDANCE_MEASUREMENT:\n",
    "    h.load_file(\"stdrun.hoc\")\n",
    "else:\n",
    "    # Activate the multisplit to use half of cores available (with a max of 8)\n",
    "    cpu = multiprocessing.cpu_count() // 2\n",
    "    h.load_file(\"parcom.hoc\")\n",
    "    p = h.ParallelComputeTool()\n",
    "    p.change_nthread(min(8, cpu), 1)\n",
    "    p.multisplit(1)\n",
    "\n"
   ]
  },
  {
   "cell_type": "code",
   "execution_count": 4,
   "metadata": {},
   "outputs": [
    {
     "name": "stdout",
     "output_type": "stream",
     "text": [
      "[0.86332495 0.98530028 0.93418391 0.90765033 0.81134087 0.81133393\n",
      " 0.77829634]\n"
     ]
    }
   ],
   "source": [
    "# simulation parameters\n",
    " \n",
    "h.dt = 0.025    # change in time between steps (ms)\n",
    "h.celsius = 32  # temperature of the neurons (*C)\n",
    "h.v_init = -65  # initial membrane potential (mV)\n",
    "h.tstop = 2000 # duration of simulation (ms)\n",
    "\n",
    "# time vectors\n",
    "t = h.Vector()\n",
    "t.record(h._ref_t)\n",
    "\n",
    "# stim parameters\n",
    "start_time = 500 # when current injection starts\n",
    "stop_time = 1500 # duration\n",
    "freq = 20 # Hz\n",
    "amp = 0.01 # pA\n",
    "\n",
    "isi = 1000/freq # inter-spike interval\n",
    "spike_times = [] # array for spike times\n",
    "for spike in range(5):\n",
    "    spike_times.append(start_time + spike * isi) # for loop will create an array of spike times equal to the frequency and time frame hard coded above\n",
    "\n",
    "# release probability\n",
    "lower = 0.75\n",
    "upper = 1\n",
    "mu = 0.9\n",
    "sigma = 0.1\n",
    "N = 7\n",
    "syn_weight = sp.stats.truncnorm.rvs((lower-mu)/sigma,(upper-mu)/sigma,loc=mu,scale=sigma,size=N)\n",
    "print(syn_weight)\n",
    "\n",
    "vs_array = [] # list for play method\n",
    "\n",
    "golgi_input_resis_array = [] # list for golgi cell input resistance\n",
    "grc_input_resis_array = [] # list for grc cell input resistance\n",
    "\n",
    "golgi_halfwidth_array = [] # list for golgi halfwidth\n",
    "grc_halfwidth_array = [] # list for grc halfwidth\n",
    "\n",
    "golgi_ncs_array = [] # list for golgi netcons\n",
    "grc_ncs_array = [] # list for grc netcons\n",
    "\n",
    "golgi_fr_array = [] # list for # of times a golgi cell spiked to determine firing rate\n",
    "grc_fr_array = [] # list for # of times a grc cell spiked to determine firing rate\n",
    "\n",
    "max_golgi_v_array = [] # list for golgi cell max voltage\n",
    "min_golgi_v_array = [] # list for golgi cell min voltage\n",
    "max_grc_v_array = [] # list for grc cell max voltage\n",
    "min_grc_v_array = [] # list for grc cell min voltage\n",
    "\n",
    "# dict of stim data to be sent for syn stims\n",
    "stim_data_mf = {'delay': start_time, 'duration': stop_time, 'amp': amp, 'spike_times': spike_times}\n"
   ]
  },
  {
   "cell_type": "code",
   "execution_count": 5,
   "metadata": {},
   "outputs": [],
   "source": [
    "def create_syn_stim(cell, synapses, stim_data_mf, syn_weight):\n",
    "\n",
    "    \"\"\"\n",
    "    Generates single pulse current to soma of cell. \n",
    "\n",
    "    delay: time after amp is injected\n",
    "    dur: duration of amp injection\n",
    "    amp: amount of amp injected\n",
    "    \"\"\"\n",
    "\n",
    "    stim = h.IClamp(cell.soma[0](0.5)) # iclamp to soma of cell\n",
    "    stim.delay = stim_data_mf['delay']\n",
    "    stim.dur = stim_data_mf['duration']\n",
    "    stim.amp = stim_data_mf['amp']\n",
    "\n",
    "    # saving mossy fiber stim synapse to netcon lists\n",
    "    if type(synapses) == type(grc_cells):\n",
    "        grc_ncs_array.extend(h.NetCon(stim, syn.input, 0, 0.1, syn_weight) for syn in synapses)\n",
    "        \n",
    "    else:\n",
    "        golgi_ncs_array.extend(h.NetCon(stim, syn.input, 0, 0.1, syn_weight) for syn in synapses)   \n",
    "\n",
    "    # play method for sending stim to cell using array of spike times\n",
    "    vs = h.Vector() \n",
    "    vs_array.append(vs.play(stim.amp, h.Vector(stim_data_mf['spike_times'])))    \n"
   ]
  },
  {
   "cell_type": "code",
   "execution_count": 6,
   "metadata": {},
   "outputs": [],
   "source": [
    "for j, grc_cell in enumerate(grc_cells):\n",
    "    \n",
    "    # number of AMPA syn, NMDA syn, GABA syn, dend number from indices\n",
    "    # grc cells connect to 4 different glomeri and synapse\n",
    "    grc_cell.createsyn(4, 4, 3, [0, 1, 2, 3]) # 4 dendritic comparts (0-3)\n",
    "    \n",
    "    # mossy fiber connection\n",
    "    create_syn_stim(grc_cell, grc_cell.MF_GrC_AMPA + grc_cell.MF_GrC_NMDA_B, stim_data_mf, syn_weight[0])\n",
    "\n",
    "    # golgi cell connection \n",
    "    for i, golgi_cell in enumerate(golgi_cells):\n",
    "        grc = grc_cell.dend[:]\n",
    "        sections = [grc[random.randrange(len(grc))] for _ in grc] \n",
    "        grc_ncs_array.extend(h.NetCon(sec(0.5)._ref_v, syn.input, 0, 0.1, syn_weight[1], sec=sec) \n",
    "                    for syn, sec in zip(grc_cell.GoC_GrC_GABA, sections))\n",
    "\n",
    "for j, golgi_cell in enumerate(golgi_cells):\n",
    "\n",
    "    # number of AMPA syn, NMDA syn, dend number from 0 to 3\n",
    "\n",
    "    # Create the synapses (max used in the paper: 89, 20, 20)\n",
    "\n",
    "    # 1 Parallel Fiber reaches 8 Golgi cells, each one synapses ~3 times onto a Golgi cell, 400 Parallel Fibers connect to a single Golgi cell\n",
    "\n",
    "    # 1 Ascending Axon reaches 23 Golgi cells, each one synapses ~1 times onto a Golgi cell. About 400 ascending axons synapse onto a golgi cell\n",
    "\n",
    "    # 1 golgi cell reaches 40 mossy fibers, each one synapses ~1 time onto a golgi cell, one golgi cell recieves input \n",
    "    # from 40 different mossy fibers\n",
    "\n",
    "    golgi_cell.createsyn(mf_n=40, \n",
    "                         pf_n=len(grc_cells)*3,\n",
    "                         aa_n=len(ascending_axons))\n",
    "    \n",
    "    # Mossy Fiber Connection\n",
    "    create_syn_stim(golgi_cell, golgi_cell.L_MF_NMDA_B + golgi_cell.L_MF_AMPA, stim_data_mf, syn_weight[2])\n",
    "\n",
    "    # Parallel Fiber Connections\n",
    "    for i, grc_cell in enumerate(grc_cells):\n",
    "        pf_i = random.randrange(0, len(grc_cell.HD_pf))\n",
    "        pf = grc_cell.HD_pf[pf_i]\n",
    "        sections = [pf[random.randrange(len(pf))] for _ in golgi_cell.L_PF] \n",
    "        golgi_ncs_array.extend(h.NetCon(sec(0.5)._ref_v, syn.input, 0, 0.1, syn_weight[3], sec=sec)\n",
    "                   for syn, sec in zip(golgi_cell.L_PF, sections))\n",
    "        golgi_ncs_array.extend(h.NetCon(sec(0.5)._ref_v, syn.input, 0, 0.1, syn_weight[4], sec=sec)\n",
    "                   for syn, sec in zip(golgi_cell.L_PF_NMDA, sections))\n",
    "\n",
    "    # Ascending Axons Connections\n",
    "    for i, grc_cell in enumerate(grc_cells):\n",
    "        n = len(grc_cell.HD_aa)\n",
    "        locations = np.random.normal(n/2, 2, len(golgi_cell.L_AA)).round().astype(int).clip(0, n-1)\n",
    "        sections = [grc_cell.HD_aa[loc] for loc in locations]\n",
    "        golgi_ncs_array.extend(h.NetCon(sec(0.5)._ref_v, syn.input, 0, 0.1, syn_weight[5], sec=sec)\n",
    "                   for syn, sec in zip(golgi_cell.L_AA, sections))\n",
    "        golgi_ncs_array.extend(h.NetCon(sec(0.5)._ref_v, syn.input, 0, 0.1, syn_weight[6], sec=sec)\n",
    "                   for syn, sec in zip(golgi_cell.L_AA_NMDA_B, sections))\n"
   ]
  },
  {
   "cell_type": "code",
   "execution_count": 7,
   "metadata": {},
   "outputs": [],
   "source": [
    "if DO_IMPEDANCE_MEASUREMENT:\n",
    "    h.finitialize(h.v_init)\n",
    "    h.fcurrent()\n",
    "\n",
    "    for grc_cell in grc_cells:\n",
    "        input_resis = h.Impedance()\n",
    "        input_resis.loc(0.5, sec=grc_cell.soma[0]) # location of where input resis will be measured\n",
    "        input_resis.compute(0, sec=grc_cell.soma[0])\n",
    "        grc_input_resis_array.append(input_resis.input(0.5, sec=grc_cell.soma[0])) # store values of input_resis in array\n",
    "\n",
    "    for golgi_cell in golgi_cells:\n",
    "        input_resis = h.Impedance()\n",
    "        input_resis.loc(0.5, sec=golgi_cell.soma[0]) # location of where input resis will be measured\n",
    "        input_resis.compute(0, sec=golgi_cell.soma[0])\n",
    "        golgi_input_resis_array.append(input_resis.input(0.5, sec=golgi_cell.soma[0])) # store values of input_resis in array"
   ]
  },
  {
   "cell_type": "code",
   "execution_count": 8,
   "metadata": {},
   "outputs": [],
   "source": [
    "def get_halfwidth(data, threshold, distance):\n",
    "    peaks = sp.signal.find_peaks(data, threshold, distance)\n",
    "    print(peaks[0])\n",
    "    clipped_data = data.copy()\n",
    "    clipped_data[clipped_data<-65] = -65\n",
    "    widths, width_height, left_ips, right_ips = sp.signal.peak_widths(clipped_data, peaks[0])\n",
    "\n",
    "    # convert from samples to miliseconds\n",
    "    widths *= h.dt  \n",
    "\n",
    "    return(widths)"
   ]
  },
  {
   "cell_type": "code",
   "execution_count": 9,
   "metadata": {},
   "outputs": [
    {
     "data": {
      "text/plain": [
       "0.0"
      ]
     },
     "execution_count": 9,
     "metadata": {},
     "output_type": "execute_result"
    }
   ],
   "source": [
    "# run simulation\n",
    "h.finitialize(h.v_init)\n",
    "h.fcurrent()\n",
    "h.run()"
   ]
  },
  {
   "cell_type": "code",
   "execution_count": 10,
   "metadata": {},
   "outputs": [
    {
     "name": "stdout",
     "output_type": "stream",
     "text": [
      "[]\n",
      "[]\n",
      "[]\n",
      "[]\n",
      "[]\n",
      "[]\n",
      "[]\n",
      "[]\n",
      "[]\n",
      "[]\n"
     ]
    },
    {
     "name": "stderr",
     "output_type": "stream",
     "text": [
      "/var/folders/jd/9b61vw6x2xdflvtkv6560s3c0000gn/T/ipykernel_86585/898382664.py:21: UserWarning: Tight layout not applied. tight_layout cannot make axes width small enough to accommodate all axes decorations\n",
      "  plt.tight_layout()\n"
     ]
    },
    {
     "data": {
      "image/png": "[encoded data removed]",
      "text/plain": [
       "<Figure size 720x576 with 10 Axes>"
      ]
     },
     "metadata": {
      "needs_background": "light"
     },
     "output_type": "display_data"
    },
    {
     "data": {
      "text/plain": [
       "<Figure size 432x288 with 0 Axes>"
      ]
     },
     "metadata": {},
     "output_type": "display_data"
    }
   ],
   "source": [
    "# plot traces of grc cells\n",
    "plt.rcParams.update({'font.size': 15})\n",
    "fig, axes = plt.subplots(1, 2, figsize = (10, 8))\n",
    "\n",
    "for j, grc_cell in enumerate(grc_cells):\n",
    "    plt.subplot(len(grc_cells), len(grc_cells), j + 1)\n",
    "\n",
    "    plt.plot(t, grc_cell.vm, label=str(grc_cell))\n",
    "    plt.title(f\"{grc_cell}\")\n",
    "    plt.xlabel(\"Time (ms)\")\n",
    "    plt.ylabel(\"Membrane Voltage (mV)\")\n",
    "\n",
    "    data = np.array(grc_cell.vm)\n",
    "    widths = get_halfwidth(data, threshold=0, distance=0.001)\n",
    "\n",
    "    grc_fr_array.append(len(grc_cell.spike_time_vec))\n",
    "    max_grc_v_array.append(np.max(data))\n",
    "    min_grc_v_array.append(np.min(data))\n",
    "    grc_halfwidth_array.append(widths)\n",
    "\n",
    "plt.tight_layout()\n",
    "plt.show()\n",
    "plt.savefig('high_rp_20Hz_grc_cells.svg', dpi = 300, facecolor='white', transparent=True)"
   ]
  },
  {
   "cell_type": "code",
   "execution_count": 11,
   "metadata": {},
   "outputs": [
    {
     "name": "stdout",
     "output_type": "stream",
     "text": [
      "[ 1013  2310  3967  6478  8832 11332 13951 16672 19488 22392 25382 28454\n",
      " 31606 34836 38142 41523 44976 48499 52091 55748 59468 63250 67091 70987\n",
      " 74938 78940]\n",
      "[ 1874  3530  4755  9769 12934 16047 19324 22694 26150 29690 33314 37018\n",
      " 40801 44663 48599 52611 56695 60849 65071 69358 73709 78121]\n"
     ]
    },
    {
     "data": {
      "image/png": "[encoded data removed]",
      "text/plain": [
       "<Figure size 720x576 with 2 Axes>"
      ]
     },
     "metadata": {
      "needs_background": "light"
     },
     "output_type": "display_data"
    },
    {
     "data": {
      "text/plain": [
       "<Figure size 432x288 with 0 Axes>"
      ]
     },
     "metadata": {},
     "output_type": "display_data"
    }
   ],
   "source": [
    "# plot traces of golgi cells\n",
    "plt.rcParams.update({'font.size': 15})\n",
    "fig, axes = plt.subplots(1, 2, figsize = (10, 8))\n",
    "\n",
    "for j, golgi_cell in enumerate(golgi_cells):\n",
    "    plt.subplot(len(golgi_cells), len(golgi_cells), j + 1)\n",
    "\n",
    "    plt.plot(t, golgi_cell.vm, label=str(golgi_cell))\n",
    "    plt.title(f\"{golgi_cell}\")\n",
    "    plt.xlabel(\"Time (ms)\")\n",
    "    plt.ylabel(\"Membrane Voltage (mV)\")\n",
    "\n",
    "    data = np.array(golgi_cell.vm)\n",
    "    widths = get_halfwidth(data, threshold=0, distance=0.001)\n",
    "\n",
    "    golgi_fr_array.append(len(golgi_cell.spike_time_vec)) # store number of times fired\n",
    "    max_golgi_v_array.append(np.max(data)) # store max amp\n",
    "    min_golgi_v_array.append(np.min(data)) # store min amp\n",
    "    golgi_halfwidth_array.append(widths)\n",
    "\n",
    "plt.tight_layout()\n",
    "plt.show()\n",
    "plt.savefig('high_rp_20Hz_golgi_cells.svg', dpi = 300, facecolor='white', transparent=True)"
   ]
  },
  {
   "cell_type": "code",
   "execution_count": 12,
   "metadata": {},
   "outputs": [],
   "source": [
    "golgi_halfwidth_array = np.concatenate(golgi_halfwidth_array)\n",
    "grc_halfwidth_array = np.concatenate(grc_halfwidth_array)\n",
    "\n",
    "sim_dict = {'data': {'time_array': t,\n",
    "                     'golgi_input_resis_array': golgi_input_resis_array,\n",
    "                     'grc_input_resis_array': golgi_input_resis_array,\n",
    "                     'golgi_fr_array': golgi_fr_array,\n",
    "                     'grc_fr_array': grc_fr_array,      \n",
    "                     'golgi_halfwidth_array': golgi_halfwidth_array,\n",
    "                     'grc_halfwidth_array': grc_halfwidth_array,\n",
    "                     'max_golgi_v_array': max_golgi_v_array,\n",
    "                     'min_golgi_v_array': min_golgi_v_array,\n",
    "                     'max_grc_v_array': max_golgi_v_array,\n",
    "                     'min_golgi_v_array': min_golgi_v_array},\n",
    "            'metadata': {'grc_cells': len(grc_cells), \n",
    "                         'golgi_cells': len(golgi_cells), \n",
    "                         'ascending_axons': len(ascending_axons),\n",
    "                         'parallel_fibers': len(parallel_fibers),\n",
    "                         'amp': amp,\n",
    "                         'freq': freq,\n",
    "                         'start_time': start_time,\n",
    "                         'stop_time': stop_time,\n",
    "                         'spike_times': spike_times},\n",
    "            'parameters': {'time_steps': h.dt,\n",
    "                           'temp': h.celsius,\n",
    "                           'v_init': h.v_init,\n",
    "                           'duration': h.tstop}}"
   ]
  },
  {
   "cell_type": "code",
   "execution_count": 13,
   "metadata": {},
   "outputs": [
    {
     "name": "stdout",
     "output_type": "stream",
     "text": [
      "<HDF5 group \"/high_rp_testing_20Hz\" (0 members)>\n",
      "<HDF5 dataset \"time_array\": shape (80001,), type \"<f8\">\n",
      "<HDF5 dataset \"golgi_input_resis_array\": shape (0,), type \"<f8\">\n",
      "<HDF5 dataset \"grc_input_resis_array\": shape (0,), type \"<f8\">\n",
      "<HDF5 dataset \"golgi_fr_array\": shape (2,), type \"<i8\">\n",
      "<HDF5 dataset \"grc_fr_array\": shape (10,), type \"<i8\">\n",
      "<HDF5 dataset \"golgi_halfwidth_array\": shape (48,), type \"<f8\">\n",
      "<HDF5 dataset \"grc_halfwidth_array\": shape (0,), type \"<f8\">\n",
      "<HDF5 dataset \"max_golgi_v_array\": shape (2,), type \"<f8\">\n",
      "<HDF5 dataset \"min_golgi_v_array\": shape (2,), type \"<f8\">\n",
      "<HDF5 dataset \"max_grc_v_array\": shape (2,), type \"<f8\">\n",
      "<HDF5 group \"/high_rp_testing_20Hz\" (1 members)>\n",
      "<HDF5 dataset \"grc_cells\": shape (), type \"<i8\">\n",
      "<HDF5 dataset \"golgi_cells\": shape (), type \"<i8\">\n",
      "<HDF5 dataset \"ascending_axons\": shape (), type \"<i8\">\n",
      "<HDF5 dataset \"parallel_fibers\": shape (), type \"<i8\">\n",
      "<HDF5 dataset \"amp\": shape (), type \"<f8\">\n",
      "<HDF5 dataset \"freq\": shape (), type \"<i8\">\n",
      "<HDF5 dataset \"start_time\": shape (), type \"<i8\">\n",
      "<HDF5 dataset \"stop_time\": shape (), type \"<i8\">\n",
      "<HDF5 dataset \"spike_times\": shape (5,), type \"<f8\">\n",
      "<HDF5 group \"/high_rp_testing_20Hz\" (2 members)>\n",
      "<HDF5 dataset \"time_steps\": shape (), type \"<f8\">\n",
      "<HDF5 dataset \"temp\": shape (), type \"<f8\">\n",
      "<HDF5 dataset \"v_init\": shape (), type \"<f8\">\n",
      "<HDF5 dataset \"duration\": shape (), type \"<f8\">\n"
     ]
    }
   ],
   "source": [
    "# export data using hdf5 utils function to import into generate figures\n",
    "file_path = 'data/sim_history.hdf5'\n",
    "model_name = 'high_rp_testing_20Hz'\n",
    "export_data(sim_dict, model_name, file_path) "
   ]
  },
  {
   "cell_type": "code",
   "execution_count": null,
   "metadata": {},
   "outputs": [],
   "source": []
  }
 ],
 "metadata": {
  "interpreter": {
   "hash": "aee8b7b246df8f9039afb4144a1f6fd8d2ca17a180786b69acc140d282b71a49"
  },
  "kernelspec": {
   "display_name": "Python 3.9.6 64-bit",
   "name": "python3"
  },
  "language_info": {
   "codemirror_mode": {
    "name": "ipython",
    "version": 3
   },
   "file_extension": ".py",
   "mimetype": "text/x-python",
   "name": "python",
   "nbconvert_exporter": "python",
   "pygments_lexer": "ipython3",
   "version": "3.9.6"
  },
  "orig_nbformat": 4
 },
 "nbformat": 4,
 "nbformat_minor": 2
}
