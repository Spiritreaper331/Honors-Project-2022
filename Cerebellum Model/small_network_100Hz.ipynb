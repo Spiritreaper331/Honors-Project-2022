{
 "cells": [
  {
   "cell_type": "markdown",
   "metadata": {},
   "source": [
    "README:\n",
    "\n",
    "Small network is a model looking at individual cell activity. All connections are included along with synaptic weights being 1 to simulate what activity would look like on the cellular level. "
   ]
  },
  {
   "cell_type": "code",
   "execution_count": 1,
   "metadata": {},
   "outputs": [],
   "source": [
    "import multiprocessing\n",
    "from functools import reduce\n",
    "import operator\n",
    "import random\n",
    "import h5py\n",
    "\n",
    "import numpy as np\n",
    "import scipy as sp\n",
    "from scipy import signal\n",
    "import matplotlib.pyplot as plt\n",
    "from neuron import h\n",
    "\n",
    "%load_ext autoreload\n",
    "%autoreload 2\n",
    "\n",
    "from GrC import GrC\n",
    "from Golgi import Golgi\n",
    "from utils import export_data\n",
    "\n",
    "# Random generator\n",
    "local_random = np.random.default_rng(123)\n",
    "\n",
    "# np.random.seed(42)"
   ]
  },
  {
   "cell_type": "code",
   "execution_count": 2,
   "metadata": {},
   "outputs": [
    {
     "name": "stdout",
     "output_type": "stream",
     "text": [
      "\n",
      "5394 lines read\n",
      "\n",
      "5456 lines read\n",
      "\n",
      "morphology/pair-140514-C2-1_split_2.asc problems\n",
      "\n",
      "\n",
      "Main branch starting at line 58 is outside the soma bounding boxes\n",
      "  Making a logical connection to center of nearest soma\n",
      "\n",
      "Main branch starting at line 2375 is outside the soma bounding boxes\n",
      "  Making a logical connection to center of nearest soma\n",
      "\n",
      "103 lines read\n",
      "\n",
      "103 lines read\n",
      "\n",
      "103 lines read\n",
      "\n",
      "103 lines read\n",
      "\n",
      "103 lines read\n",
      "\n",
      "103 lines read\n",
      "\n",
      "103 lines read\n",
      "\n",
      "103 lines read\n",
      "\n",
      "103 lines read\n",
      "\n",
      "103 lines read\n"
     ]
    }
   ],
   "source": [
    "# Instantiation of the cell templates\n",
    "\n",
    "golgi_cells = [[Golgi(i, morpho) for i in range(count)] for morpho, count in (\n",
    "    (1, 1),  # morpho 1\n",
    "    (2, 1),  # morpho 2\n",
    " )]\n",
    "\n",
    "golgi_cells = reduce(operator.concat, golgi_cells)\n",
    "random.shuffle(golgi_cells)\n",
    "golgi_cells = golgi_cells[:2]\n",
    "\n",
    "grc_cells = [[GrC(i, subtype) for i in range(count)] for subtype, count in (\n",
    "    (\"regular\", 2), # 20%\n",
    "    (\"mild\", 3), # 30%\n",
    "    (\"adapting\", 4), # 40%\n",
    "    (\"accelerate\", 1), # 10%\n",
    ")]\n",
    "\n",
    "grc_cells = reduce(operator.concat, grc_cells)\n",
    "random.shuffle(grc_cells)\n",
    "grc_cells = grc_cells[:2]\n",
    "\n",
    "ascending_axons = sum((grc_cell.HD_aa for grc_cell in grc_cells), [])\n",
    "parallel_fibers = sum((grc_cell.HD_pf for grc_cell in grc_cells), [])\n"
   ]
  },
  {
   "cell_type": "code",
   "execution_count": 3,
   "metadata": {},
   "outputs": [
    {
     "data": {
      "text/plain": [
       "Vector[32153]"
      ]
     },
     "execution_count": 3,
     "metadata": {},
     "output_type": "execute_result"
    }
   ],
   "source": [
    "# Fixed time step only\n",
    "time_step = h.CVode()\n",
    "time_step.active(0)  # 0 fixed step, 1 variable time step\n",
    "\n",
    "DO_IMPEDANCE_MEASUREMENT = False\n",
    "\n",
    "if DO_IMPEDANCE_MEASUREMENT:\n",
    "    h.load_file(\"stdrun.hoc\")\n",
    "else:\n",
    "    # Activate the multisplit to use half of cores available (with a max of 8)\n",
    "    cpu = multiprocessing.cpu_count() // 2\n",
    "    h.load_file(\"parcom.hoc\")\n",
    "    p = h.ParallelComputeTool()\n",
    "    p.change_nthread(min(8, cpu), 1)\n",
    "    p.multisplit(1)\n",
    "\n",
    "# simulation parameters\n",
    " \n",
    "h.dt = 0.025    # change in time between steps (ms)\n",
    "h.celsius = 32  # temperature of the neurons (*C)\n",
    "h.v_init = -65  # initial membrane potential (mV)\n",
    "h.tstop = 3000 # duration of simulation (ms)\n",
    "\n",
    "# time vectors\n",
    "t = h.Vector()\n",
    "t.record(h._ref_t)"
   ]
  },
  {
   "cell_type": "code",
   "execution_count": 4,
   "metadata": {},
   "outputs": [],
   "source": [
    "start_time = 500 # when current injection starts\n",
    "stop_time = 2500 # duration\n",
    "freq = 20 # Hz\n",
    "amp = 0.01 # nA\n",
    "\n",
    "isi = 1000/freq # inter-spike interval\n",
    "spike_times = [] # array for spike times\n",
    "for spike in range(5):\n",
    "    spike_times.append(start_time + spike * isi) # for loop will create an array of spike times equal to the frequency and time frame hard coded above\n",
    "\n",
    "stims_array = [] # list for iClamp\n",
    "stim_rec_array = [] # list for current from iCLamp\n",
    "vs_array = [] # list for play method\n",
    "\n",
    "golgi_input_resis_array = [] # list for golgi cell input resistance\n",
    "grc_input_resis_array = [] # list for grc cell input resistance\n",
    "\n",
    "golgi_halfwidth_array = [] # list for golgi halfwidth\n",
    "grc_halfwidth_array = [] # list for grc halfwidth\n",
    "\n",
    "golgi_ncs_array = [] # list for golgi netcons\n",
    "grc_ncs_array = [] # list for grc netcons\n",
    "\n",
    "golgi_fr_array = [] # list for # of times a golgi cell spiked to determine firing rate\n",
    "grc_fr_array = [] # list for # of times a grc cell spiked to determine firing rate\n",
    "\n",
    "max_golgi_v_array = [] # list for golgi cell max voltage\n",
    "min_golgi_v_array = [] # list for golgi cell min voltage\n",
    "max_grc_v_array = [] # list for grc cell max voltage\n",
    "min_grc_v_array = [] # list for grc cell min voltage\n",
    "\n",
    "# dict of stim data to be sent for syn stims\n",
    "stim_data_pf = {'delay': start_time, 'duration': stop_time, 'amp': amp, 'spike_times': spike_times}\n",
    "stim_data_mf = {'delay': start_time, 'duration': stop_time, 'amp': amp, 'spike_times': spike_times}\n",
    "stim_data_aa = {'delay': start_time, 'duration': stop_time, 'amp': amp, 'spike_times': spike_times}\n"
   ]
  },
  {
   "cell_type": "code",
   "execution_count": 5,
   "metadata": {},
   "outputs": [],
   "source": [
    "def create_syn_stim(cell, synapses, stim_data_mf):\n",
    "\n",
    "    \"\"\"\n",
    "    Generates single pulse current to soma of cell. \n",
    "\n",
    "    delay: time after amp is injected\n",
    "    dur: duration of amp injection\n",
    "    amp: amount of amp injected\n",
    "    \"\"\"\n",
    "\n",
    "    # ask if it makes sense to have iclamp to soma instead of dendrite\n",
    "    stim = h.IClamp(cell.soma[0](0.5)) # iclamp to soma of cell\n",
    "    stim.delay = stim_data_mf['delay']\n",
    "    stim.dur = stim_data_mf['duration']\n",
    "    stim.amp = stim_data_mf['amp']\n",
    "    stims_array.append(stim)\n",
    "    \n",
    "    # recording of current from iclamp\n",
    "    stim_i_rec = h.Vector()\n",
    "    stim_rec_array.append(stim_i_rec.record(stim._ref_i))\n",
    "\n",
    "    # saving mossy fiber stim synapse to netcon lists\n",
    "    if type(synapses) == type(grc_cells):\n",
    "        grc_ncs_array.extend(h.NetCon(stim, syn.input, 0, 0.1, 1) for syn in synapses)\n",
    "        \n",
    "    else:\n",
    "        golgi_ncs_array.extend(h.NetCon(stim, syn.input, 0, 0.1, 1) for syn in synapses)   \n",
    "\n",
    "    # play method for sending stim to cell using array of spike times\n",
    "    vs = h.Vector() \n",
    "    vs_array.append(vs.play(stim.amp, h.Vector(stim_data_mf['spike_times'])))    \n"
   ]
  },
  {
   "cell_type": "code",
   "execution_count": 6,
   "metadata": {},
   "outputs": [],
   "source": [
    "for j, grc_cell in enumerate(grc_cells):\n",
    "    \n",
    "    # number of AMPA syn, NMDA syn, GABA syn, dend number from indices\n",
    "    # grc cells connect to 4 different glomeri and synapse\n",
    "    grc_cell.createsyn(4, 4, 3, [0, 1, 2, 3]) # 4 dendritic comparts (0-3)\n",
    "    \n",
    "    # mossy fiber connection\n",
    "    create_syn_stim(grc_cell, grc_cell.MF_GrC_AMPA + grc_cell.MF_GrC_NMDA_B, stim_data_mf)\n",
    "\n",
    "    # golgi cell connection \n",
    "    for i, golgi_cell in enumerate(golgi_cells):\n",
    "        grc = grc_cell.dend[:]\n",
    "        sections = [grc[random.randrange(len(grc))] for _ in grc] \n",
    "        grc_ncs_array.extend(h.NetCon(sec(0.5)._ref_v, syn.input, 0, 0.1, 1, sec=sec) \n",
    "                    for syn, sec in zip(grc_cell.GoC_GrC_GABA, sections))\n",
    "\n",
    "for j, golgi_cell in enumerate(golgi_cells):\n",
    "\n",
    "    # number of AMPA syn, NMDA syn, dend number from 0 to 3\n",
    "\n",
    "    # Create the synapses (max used in the paper: 89, 20, 20)\n",
    "\n",
    "    # 1 Parallel Fiber reaches 8 Golgi cells, each one synapses ~3 times onto a Golgi cell, 400 Parallel Fibers connect to a single Golgi cell\n",
    "\n",
    "    # 1 Ascending Axon reaches 23 Golgi cells, each one synapses ~1 times onto a Golgi cell. About 400 ascending axons synapse onto a golgi cell\n",
    "\n",
    "    # 1 golgi cell reaches 40 mossy fibers, each one synapses ~1 time onto a golgi cell, one golgi cell recieves input \n",
    "    # from 40 different mossy fibers\n",
    "\n",
    "    golgi_cell.createsyn(mf_n=40, \n",
    "                         pf_n=len(grc_cells)*3,\n",
    "                         aa_n=len(ascending_axons))\n",
    "    \n",
    "    # Mossy Fiber Connection\n",
    "    create_syn_stim(golgi_cell, golgi_cell.L_MF_NMDA_B + golgi_cell.L_MF_AMPA, stim_data_mf)\n",
    "\n",
    "    # Parallel Fiber Connections\n",
    "    for i, grc_cell in enumerate(grc_cells):\n",
    "        pf_i = random.randrange(0, len(grc_cell.HD_pf))\n",
    "        pf = grc_cell.HD_pf[pf_i]\n",
    "        sections = [pf[random.randrange(len(pf))] for _ in golgi_cell.L_PF] \n",
    "        golgi_ncs_array.extend(h.NetCon(sec(0.5)._ref_v, syn.input, 0, 0.1, 1, sec=sec)\n",
    "                   for syn, sec in zip(golgi_cell.L_PF, sections))\n",
    "        golgi_ncs_array.extend(h.NetCon(sec(0.5)._ref_v, syn.input, 0, 0.1, 1, sec=sec)\n",
    "                   for syn, sec in zip(golgi_cell.L_PF_NMDA, sections))\n",
    "\n",
    "    # Ascending Axons Connections\n",
    "    for i, grc_cell in enumerate(grc_cells):\n",
    "        n = len(grc_cell.HD_aa)\n",
    "        locations = np.random.normal(n/2, 2, len(golgi_cell.L_AA)).round().astype(int).clip(0, n-1)\n",
    "        sections = [grc_cell.HD_aa[loc] for loc in locations]\n",
    "        golgi_ncs_array.extend(h.NetCon(sec(0.5)._ref_v, syn.input, 0, 0.1, 1, sec=sec)\n",
    "                   for syn, sec in zip(golgi_cell.L_AA, sections))\n",
    "        golgi_ncs_array.extend(h.NetCon(sec(0.5)._ref_v, syn.input, 0, 0.1, 1, sec=sec)\n",
    "                   for syn, sec in zip(golgi_cell.L_AA_NMDA_B, sections))\n"
   ]
  },
  {
   "cell_type": "code",
   "execution_count": 7,
   "metadata": {},
   "outputs": [],
   "source": [
    "if DO_IMPEDANCE_MEASUREMENT:\n",
    "    h.finitialize(h.v_init)\n",
    "    h.fcurrent()\n",
    "\n",
    "    for grc_cell in grc_cells:\n",
    "        input_resis = h.Impedance()\n",
    "        input_resis.loc(0.5, sec=grc_cell.soma[0]) # location of where input resis will be measured\n",
    "        input_resis.compute(0, sec=grc_cell.soma[0])\n",
    "        x = input_resis.input(0.5, sec=grc_cell.soma[0])\n",
    "        grc_input_resis_array.append(x) # store values of input_resis in array\n",
    "\n",
    "    for golgi_cell in golgi_cells:\n",
    "        input_resis = h.Impedance()\n",
    "        input_resis.loc(0.5, sec=golgi_cell.soma[0]) # location of where input resis will be measured\n",
    "        input_resis.compute(0, sec=golgi_cell.soma[0])\n",
    "        x = input_resis.input(0.5, sec=golgi_cell.soma[0])\n",
    "        golgi_input_resis_array.append(x) # store values of input_resis in array\n",
    "        \n",
    "    # lookup compute with ac current "
   ]
  },
  {
   "cell_type": "code",
   "execution_count": 8,
   "metadata": {},
   "outputs": [],
   "source": [
    "def get_halfwidth(data, threshold, distance):\n",
    "    peaks = sp.signal.find_peaks(data, threshold, distance)\n",
    "    clipped_data = data.copy()\n",
    "    clipped_data[clipped_data<-65] = -65\n",
    "    width, width_height, left_ips, right_ips = sp.signal.peak_widths(clipped_data, peaks[0])\n",
    "\n",
    "    # convert from samples to miliseconds\n",
    "    width *= h.dt  \n",
    "\n",
    "    return(width)"
   ]
  },
  {
   "cell_type": "code",
   "execution_count": 9,
   "metadata": {},
   "outputs": [
    {
     "data": {
      "text/plain": [
       "0.0"
      ]
     },
     "execution_count": 9,
     "metadata": {},
     "output_type": "execute_result"
    }
   ],
   "source": [
    "# run simulation\n",
    "h.finitialize(h.v_init)\n",
    "h.fcurrent()\n",
    "h.run()"
   ]
  },
  {
   "cell_type": "code",
   "execution_count": 10,
   "metadata": {},
   "outputs": [
    {
     "name": "stdout",
     "output_type": "stream",
     "text": [
      "[0.76365073]\n",
      "[0.58296733 0.61194827 0.62088322 0.63621312 0.65006733 0.66526867\n",
      " 0.67887395 0.69178414 0.70334774 0.71458524 0.72381082 0.73309384\n",
      " 0.74068703 0.74775441 0.75368057 0.75899345 0.76305517 0.76764281\n",
      " 0.77040625 0.77293899 0.77393332 0.77517363 0.77623721 0.77750336\n",
      " 0.77771618 0.77759595 0.77727005 0.77683535 0.77651115 0.77575541\n",
      " 0.7750495  0.77365151 0.77267034 0.77210278 0.77081241 0.76988148\n",
      " 0.76847153 0.76745481 0.76591505 0.76475692 0.76328583 0.7617351\n",
      " 0.76113594 0.75984414 0.75826345 0.75738012 0.7552308  0.75445367\n",
      " 0.75261363 0.75221872 0.75070702 0.74864568 0.74723665 0.74696269\n",
      " 0.74474143 0.7434788  0.74341323 0.74112683 0.74046046 0.73898374\n",
      " 0.73804908 0.73652983 0.73456044 0.7336932  0.73235168 0.73082934\n",
      " 0.729158   0.72790254 0.72666268 0.72521272 0.72444435 0.72265239\n",
      " 0.72153661 0.72030544 0.71887962 0.71813349 0.71668752 0.71582572\n",
      " 0.71434875 0.71274472 0.71165739 0.71095395 0.71003769 0.70885498\n",
      " 0.70711461 0.70692685 0.70478583 0.70490798 0.70294477 0.70245434\n",
      " 0.70173947 0.6997638  0.70008547 0.6982025  0.69749166 0.69698615\n",
      " 0.69540225 0.6951787  0.69401547 0.69242697 0.69285842 0.69192138\n",
      " 0.69059688 0.68968043 0.68901715 0.68865325 0.68825822 0.68627045\n",
      " 0.68655556 0.68492056 0.68519911 0.68469304 0.68395756 0.68343869\n",
      " 0.6824093  0.68121844 0.68163199 0.6801889  0.67936917 0.67977759\n",
      " 0.67933067 0.67807823 0.67739158 0.6777124  0.67632875 0.67687042\n",
      " 0.67571662 0.67500226 0.67482326 0.6745619  0.67378297 0.67347453\n",
      " 0.67353689 0.67371351 0.67268369 0.67232988 0.67273428 0.67138147\n",
      " 0.67191133 0.6710853  0.67093318 0.67122245 0.6700047  0.67023376\n",
      " 0.67043233 0.6700923  0.6696161  0.66944396 0.6694893  0.66906552\n",
      " 0.66824468 0.66876409 0.66857686 0.66810118 0.66825609 0.66791828\n",
      " 0.66742688 0.66706896 0.66692584 0.66752085 0.66665875 0.66660894\n",
      " 0.66644403 0.6667633  0.66685527 0.66627422]\n"
     ]
    },
    {
     "data": {
      "image/png": "[encoded data removed]",
      "text/plain": [
       "<Figure size 720x576 with 2 Axes>"
      ]
     },
     "metadata": {
      "needs_background": "light"
     },
     "output_type": "display_data"
    },
    {
     "data": {
      "text/plain": [
       "<Figure size 432x288 with 0 Axes>"
      ]
     },
     "metadata": {},
     "output_type": "display_data"
    }
   ],
   "source": [
    "# plot traces of grc cells\n",
    "plt.rcParams.update({'font.size': 15})\n",
    "fig, axes = plt.subplots(1, 2, figsize = (10, 8))\n",
    "\n",
    "for j, grc_cell in enumerate(grc_cells):\n",
    "    plt.subplot(len(grc_cells), 2, j + 1)\n",
    "\n",
    "    plt.plot(t, grc_cell.vm, label=str(grc_cell))\n",
    "    plt.title(f\"{grc_cell}\")\n",
    "    plt.xlabel(\"time (ms)\")\n",
    "    plt.ylabel(\"membrane voltage (mv)\")\n",
    "\n",
    "    data = np.array(grc_cell.vm)\n",
    "    width = get_halfwidth(data, threshold=0, distance=0.001) # function for halfwidth\n",
    "    print(width)\n",
    "\n",
    "    grc_fr_array.append(len(grc_cell.spike_time_vec)) # store number of times fired\n",
    "    max_grc_v_array.append(np.max(data))\n",
    "    min_grc_v_array.append(np.min(data))\n",
    "    grc_halfwidth_array.append(width)\n",
    "\n",
    "plt.tight_layout()\n",
    "plt.show()\n",
    "plt.savefig('sm_network_grc_cells.svg', dpi = 300, facecolor='white', transparent=True)"
   ]
  },
  {
   "cell_type": "code",
   "execution_count": 11,
   "metadata": {},
   "outputs": [
    {
     "name": "stdout",
     "output_type": "stream",
     "text": [
      "[0.43047682 0.43215443 0.43206167 0.4275193  0.43521475 0.43779898\n",
      " 0.43516364 0.43667816 0.42962253 0.43196478 0.43330845 0.43333049\n",
      " 0.43338694 0.43369439 0.43349579 0.43511858 0.43299876 0.43289976\n",
      " 0.4330398  0.43286838 0.4337642  0.432455   0.43269134 0.43323428\n",
      " 0.43290499 0.43598669 0.43257798 0.43227747 0.43296464 0.43228859\n",
      " 0.43484439 0.43247556 0.4360353  0.43292074 0.43653583 0.43376681\n",
      " 0.4331571  0.43265273 0.43323412 0.43384197 0.43187276 0.4324097\n",
      " 0.43354574 0.43407988 0.43098747 0.43237821 0.4317726  0.43177983\n",
      " 0.43561336 0.43067264 0.43216144 0.43186307 0.43188348 0.43036221\n",
      " 0.43398343 0.42983427 0.43328232 0.43519247 0.43200233 0.43333099\n",
      " 0.43010957 0.43324044 0.43057457 0.43153386 0.4293677  0.43116401\n",
      " 0.43364937]\n",
      "[0.40554352 0.40914328 0.4020296  0.40547541 0.42269141 0.41569133\n",
      " 0.41012215 0.41207813 0.40845404 0.41024826 0.4098131  0.41036661\n",
      " 0.41657001 0.4112665  0.41260559 0.41272237 0.41002328 0.41107693\n",
      " 0.41230712 0.41104934 0.41135287 0.41313484 0.41090487 0.41192698\n",
      " 0.41278988 0.40958809 0.41192106 0.41283703 0.41128031 0.41251317\n",
      " 0.41134844 0.40966848 0.40981897 0.41044187 0.41238563 0.41122352\n",
      " 0.41358227 0.41262827 0.40930628 0.4103307  0.41005285 0.41118\n",
      " 0.41483539 0.41008079 0.40932651 0.40961205 0.40854671 0.41311209\n",
      " 0.40866088 0.41061325 0.4096463  0.40842192 0.40944123 0.41001574\n",
      " 0.4113414  0.41501391 0.41084022 0.41218578 0.40954865 0.41197364\n",
      " 0.40936927 0.41099757 0.4101804  0.41059122 0.40880281 0.41235895]\n"
     ]
    },
    {
     "data": {
      "image/png": "[encoded data removed]",
      "text/plain": [
       "<Figure size 720x576 with 2 Axes>"
      ]
     },
     "metadata": {
      "needs_background": "light"
     },
     "output_type": "display_data"
    },
    {
     "data": {
      "text/plain": [
       "<Figure size 432x288 with 0 Axes>"
      ]
     },
     "metadata": {},
     "output_type": "display_data"
    }
   ],
   "source": [
    "# plot traces of golgi cells\n",
    "plt.rcParams.update({'font.size': 15})\n",
    "fig, axes = plt.subplots(1, 2, figsize = (10, 8))\n",
    "\n",
    "for j, golgi_cell in enumerate(golgi_cells):\n",
    "    plt.subplot(len(golgi_cells), 2, j + 1)\n",
    "\n",
    "    plt.plot(t, golgi_cell.vm, label=str(golgi_cell), color=('red'))\n",
    "    plt.title(f\"{golgi_cell}\")\n",
    "    plt.xlabel(\"time (ms)\")\n",
    "    plt.ylabel(\"membrane voltage (mv)\")\n",
    "\n",
    "    data = np.array(golgi_cell.vm)\n",
    "    width = get_halfwidth(data, threshold=0, distance=0.001) # function for halfwidth\n",
    "    print(width)\n",
    "\n",
    "    golgi_fr_array.append(len(np.array(golgi_cell.spike_time_vec))) # store number of times fired\n",
    "    max_golgi_v_array.append(np.max(data)) # store max amp\n",
    "    min_golgi_v_array.append(np.min(data)) # store min amp\n",
    "    golgi_halfwidth_array.append(width)\n",
    "\n",
    "plt.tight_layout()\n",
    "plt.show()\n",
    "plt.savefig('sm_network_golgi_cells.svg', dpi = 300, facecolor='white', transparent=True)"
   ]
  },
  {
   "cell_type": "code",
   "execution_count": 12,
   "metadata": {},
   "outputs": [],
   "source": [
    "sim_dict = {'data': {'time_array': t,\n",
    "                     'stim_rec_array': stim_rec_array,\n",
    "                    #  'stims_array': stims_array,\n",
    "                     'golgi_input_resis_array': golgi_input_resis_array,\n",
    "                     'grc_input_resis_array': golgi_input_resis_array,\n",
    "                     'golgi_fr_array': golgi_fr_array,\n",
    "                     'grc_fr_array': grc_fr_array,      \n",
    "                    #  'golgi_ncs_array': golgi_ncs_array,\n",
    "                    #  'grc_ncs_array': grc_ncs_array,\n",
    "                     'golgi_halfwidth_array': golgi_halfwidth_array,\n",
    "                     'grc_halfwidth_array': grc_halfwidth_array,\n",
    "                     'max_golgi_v_array': max_golgi_v_array,\n",
    "                     'min_golgi_v_array': min_golgi_v_array,\n",
    "                     'max_grc_v_array': max_golgi_v_array,\n",
    "                     'min_golgi_v_array': min_golgi_v_array},\n",
    "            'metadata': {#'grc_cells': grc_cells, \n",
    "                         #'golgi_cells': golgi_cells, \n",
    "                         #'ascending_axons': ascending_axons,\n",
    "                         #'parallel_fibers': parallel_fibers,\n",
    "                         'amp': amp,\n",
    "                         'freq': freq,\n",
    "                         'start_time': start_time,\n",
    "                         'stop_time': stop_time,\n",
    "                         'spike_times': spike_times},\n",
    "                        #  'synapse_data_pf': stim_data_pf,\n",
    "                        #  'synapse_data_mf': stim_data_mf,\n",
    "                        #  'synapse_data_aa': stim_data_aa},\n",
    "            'parameters': {'time_steps': h.dt,\n",
    "                           'temp': h.celsius,\n",
    "                           'v_init': h.v_init,\n",
    "                           'duration': h.tstop}}"
   ]
  },
  {
   "cell_type": "code",
   "execution_count": 13,
   "metadata": {},
   "outputs": [
    {
     "name": "stdout",
     "output_type": "stream",
     "text": [
      "<HDF5 group \"/sm_network\" (0 members)>\n",
      "<HDF5 dataset \"time_array\": shape (48001,), type \"<f8\">\n",
      "<HDF5 dataset \"stim_rec_array\": shape (4, 48001), type \"<f8\">\n",
      "<HDF5 dataset \"golgi_input_resis_array\": shape (0,), type \"<f8\">\n",
      "<HDF5 dataset \"grc_input_resis_array\": shape (0,), type \"<f8\">\n",
      "<HDF5 dataset \"golgi_fr_array\": shape (2,), type \"<i8\">\n",
      "<HDF5 dataset \"grc_fr_array\": shape (2,), type \"<i8\">\n"
     ]
    },
    {
     "name": "stderr",
     "output_type": "stream",
     "text": [
      "/Library/Frameworks/Python.framework/Versions/3.9/lib/python3.9/site-packages/h5py/_hl/base.py:118: VisibleDeprecationWarning: Creating an ndarray from ragged nested sequences (which is a list-or-tuple of lists-or-tuples-or ndarrays with different lengths or shapes) is deprecated. If you meant to do this, you must specify 'dtype=object' when creating the ndarray.\n",
      "  data = np.asarray(data, order=\"C\", dtype=as_dtype)\n"
     ]
    },
    {
     "ename": "TypeError",
     "evalue": "Object dtype dtype('O') has no native HDF5 equivalent",
     "output_type": "error",
     "traceback": [
      "\u001b[0;31m---------------------------------------------------------------------------\u001b[0m",
      "\u001b[0;31mTypeError\u001b[0m                                 Traceback (most recent call last)",
      "\u001b[0;32m/var/folders/jd/9b61vw6x2xdflvtkv6560s3c0000gn/T/ipykernel_75470/230074021.py\u001b[0m in \u001b[0;36m<module>\u001b[0;34m\u001b[0m\n\u001b[1;32m      2\u001b[0m \u001b[0mfile_path\u001b[0m \u001b[0;34m=\u001b[0m \u001b[0;34m'data/sim_history.hdf5'\u001b[0m\u001b[0;34m\u001b[0m\u001b[0;34m\u001b[0m\u001b[0m\n\u001b[1;32m      3\u001b[0m \u001b[0mmodel_name\u001b[0m \u001b[0;34m=\u001b[0m \u001b[0;34m'sm_network'\u001b[0m\u001b[0;34m\u001b[0m\u001b[0;34m\u001b[0m\u001b[0m\n\u001b[0;32m----> 4\u001b[0;31m \u001b[0mexport_data\u001b[0m\u001b[0;34m(\u001b[0m\u001b[0msim_dict\u001b[0m\u001b[0;34m,\u001b[0m \u001b[0mmodel_name\u001b[0m\u001b[0;34m,\u001b[0m \u001b[0mfile_path\u001b[0m\u001b[0;34m)\u001b[0m\u001b[0;34m\u001b[0m\u001b[0;34m\u001b[0m\u001b[0m\n\u001b[0m",
      "\u001b[0;32m~/github_repos/Honors Project 2022/Honors-Project-2022/Cerebellum Model/utils.py\u001b[0m in \u001b[0;36mexport_data\u001b[0;34m(sim_dict, model_name, file_name)\u001b[0m\n\u001b[1;32m     76\u001b[0m \u001b[0;34m\u001b[0m\u001b[0m\n\u001b[1;32m     77\u001b[0m             \u001b[0;32mfor\u001b[0m \u001b[0mmodel_value\u001b[0m \u001b[0;32min\u001b[0m \u001b[0msim_dict\u001b[0m\u001b[0;34m[\u001b[0m\u001b[0mcategory\u001b[0m\u001b[0;34m]\u001b[0m\u001b[0;34m.\u001b[0m\u001b[0mkeys\u001b[0m\u001b[0;34m(\u001b[0m\u001b[0;34m)\u001b[0m\u001b[0;34m:\u001b[0m\u001b[0;34m\u001b[0m\u001b[0;34m\u001b[0m\u001b[0m\n\u001b[0;32m---> 78\u001b[0;31m                 \u001b[0mfile\u001b[0m\u001b[0;34m[\u001b[0m\u001b[0mmodel_name\u001b[0m\u001b[0;34m]\u001b[0m\u001b[0;34m[\u001b[0m\u001b[0mcategory\u001b[0m\u001b[0;34m]\u001b[0m\u001b[0;34m.\u001b[0m\u001b[0mcreate_dataset\u001b[0m\u001b[0;34m(\u001b[0m\u001b[0mmodel_value\u001b[0m\u001b[0;34m,\u001b[0m \u001b[0mdata\u001b[0m \u001b[0;34m=\u001b[0m \u001b[0msim_dict\u001b[0m\u001b[0;34m[\u001b[0m\u001b[0mcategory\u001b[0m\u001b[0;34m]\u001b[0m\u001b[0;34m[\u001b[0m\u001b[0mmodel_value\u001b[0m\u001b[0;34m]\u001b[0m\u001b[0;34m)\u001b[0m\u001b[0;34m\u001b[0m\u001b[0;34m\u001b[0m\u001b[0m\n\u001b[0m\u001b[1;32m     79\u001b[0m                 \u001b[0mprint\u001b[0m\u001b[0;34m(\u001b[0m\u001b[0mfile\u001b[0m\u001b[0;34m[\u001b[0m\u001b[0mmodel_name\u001b[0m\u001b[0;34m]\u001b[0m\u001b[0;34m[\u001b[0m\u001b[0mcategory\u001b[0m\u001b[0;34m]\u001b[0m\u001b[0;34m[\u001b[0m\u001b[0mmodel_value\u001b[0m\u001b[0;34m]\u001b[0m\u001b[0;34m)\u001b[0m\u001b[0;34m\u001b[0m\u001b[0;34m\u001b[0m\u001b[0m\n\u001b[1;32m     80\u001b[0m \u001b[0;34m\u001b[0m\u001b[0m\n",
      "\u001b[0;32m/Library/Frameworks/Python.framework/Versions/3.9/lib/python3.9/site-packages/h5py/_hl/group.py\u001b[0m in \u001b[0;36mcreate_dataset\u001b[0;34m(self, name, shape, dtype, data, **kwds)\u001b[0m\n\u001b[1;32m    159\u001b[0m                     \u001b[0mgroup\u001b[0m \u001b[0;34m=\u001b[0m \u001b[0mself\u001b[0m\u001b[0;34m.\u001b[0m\u001b[0mrequire_group\u001b[0m\u001b[0;34m(\u001b[0m\u001b[0mparent_path\u001b[0m\u001b[0;34m)\u001b[0m\u001b[0;34m\u001b[0m\u001b[0;34m\u001b[0m\u001b[0m\n\u001b[1;32m    160\u001b[0m \u001b[0;34m\u001b[0m\u001b[0m\n\u001b[0;32m--> 161\u001b[0;31m             \u001b[0mdsid\u001b[0m \u001b[0;34m=\u001b[0m \u001b[0mdataset\u001b[0m\u001b[0;34m.\u001b[0m\u001b[0mmake_new_dset\u001b[0m\u001b[0;34m(\u001b[0m\u001b[0mgroup\u001b[0m\u001b[0;34m,\u001b[0m \u001b[0mshape\u001b[0m\u001b[0;34m,\u001b[0m \u001b[0mdtype\u001b[0m\u001b[0;34m,\u001b[0m \u001b[0mdata\u001b[0m\u001b[0;34m,\u001b[0m \u001b[0mname\u001b[0m\u001b[0;34m,\u001b[0m \u001b[0;34m**\u001b[0m\u001b[0mkwds\u001b[0m\u001b[0;34m)\u001b[0m\u001b[0;34m\u001b[0m\u001b[0;34m\u001b[0m\u001b[0m\n\u001b[0m\u001b[1;32m    162\u001b[0m             \u001b[0mdset\u001b[0m \u001b[0;34m=\u001b[0m \u001b[0mdataset\u001b[0m\u001b[0;34m.\u001b[0m\u001b[0mDataset\u001b[0m\u001b[0;34m(\u001b[0m\u001b[0mdsid\u001b[0m\u001b[0;34m)\u001b[0m\u001b[0;34m\u001b[0m\u001b[0;34m\u001b[0m\u001b[0m\n\u001b[1;32m    163\u001b[0m             \u001b[0;32mreturn\u001b[0m \u001b[0mdset\u001b[0m\u001b[0;34m\u001b[0m\u001b[0;34m\u001b[0m\u001b[0m\n",
      "\u001b[0;32m/Library/Frameworks/Python.framework/Versions/3.9/lib/python3.9/site-packages/h5py/_hl/dataset.py\u001b[0m in \u001b[0;36mmake_new_dset\u001b[0;34m(parent, shape, dtype, data, name, chunks, compression, shuffle, fletcher32, maxshape, compression_opts, fillvalue, scaleoffset, track_times, external, track_order, dcpl, dapl, efile_prefix, virtual_prefix, allow_unknown_filter)\u001b[0m\n\u001b[1;32m     86\u001b[0m         \u001b[0;32melse\u001b[0m\u001b[0;34m:\u001b[0m\u001b[0;34m\u001b[0m\u001b[0;34m\u001b[0m\u001b[0m\n\u001b[1;32m     87\u001b[0m             \u001b[0mdtype\u001b[0m \u001b[0;34m=\u001b[0m \u001b[0mnumpy\u001b[0m\u001b[0;34m.\u001b[0m\u001b[0mdtype\u001b[0m\u001b[0;34m(\u001b[0m\u001b[0mdtype\u001b[0m\u001b[0;34m)\u001b[0m\u001b[0;34m\u001b[0m\u001b[0;34m\u001b[0m\u001b[0m\n\u001b[0;32m---> 88\u001b[0;31m         \u001b[0mtid\u001b[0m \u001b[0;34m=\u001b[0m \u001b[0mh5t\u001b[0m\u001b[0;34m.\u001b[0m\u001b[0mpy_create\u001b[0m\u001b[0;34m(\u001b[0m\u001b[0mdtype\u001b[0m\u001b[0;34m,\u001b[0m \u001b[0mlogical\u001b[0m\u001b[0;34m=\u001b[0m\u001b[0;36m1\u001b[0m\u001b[0;34m)\u001b[0m\u001b[0;34m\u001b[0m\u001b[0;34m\u001b[0m\u001b[0m\n\u001b[0m\u001b[1;32m     89\u001b[0m \u001b[0;34m\u001b[0m\u001b[0m\n\u001b[1;32m     90\u001b[0m     \u001b[0;31m# Legacy\u001b[0m\u001b[0;34m\u001b[0m\u001b[0;34m\u001b[0m\u001b[0;34m\u001b[0m\u001b[0m\n",
      "\u001b[0;32mh5py/h5t.pyx\u001b[0m in \u001b[0;36mh5py.h5t.py_create\u001b[0;34m()\u001b[0m\n",
      "\u001b[0;32mh5py/h5t.pyx\u001b[0m in \u001b[0;36mh5py.h5t.py_create\u001b[0;34m()\u001b[0m\n",
      "\u001b[0;32mh5py/h5t.pyx\u001b[0m in \u001b[0;36mh5py.h5t.py_create\u001b[0;34m()\u001b[0m\n",
      "\u001b[0;31mTypeError\u001b[0m: Object dtype dtype('O') has no native HDF5 equivalent"
     ]
    }
   ],
   "source": [
    "# export data using hdf5 utils function to import into generate figures\n",
    "file_path = 'data/sim_history.hdf5'\n",
    "model_name = 'sm_network'\n",
    "export_data(sim_dict, model_name, file_path) "
   ]
  },
  {
   "cell_type": "code",
   "execution_count": null,
   "metadata": {},
   "outputs": [],
   "source": []
  }
 ],
 "metadata": {
  "interpreter": {
   "hash": "aee8b7b246df8f9039afb4144a1f6fd8d2ca17a180786b69acc140d282b71a49"
  },
  "kernelspec": {
   "display_name": "Python 3.9.6 64-bit",
   "name": "python3"
  },
  "language_info": {
   "codemirror_mode": {
    "name": "ipython",
    "version": 3
   },
   "file_extension": ".py",
   "mimetype": "text/x-python",
   "name": "python",
   "nbconvert_exporter": "python",
   "pygments_lexer": "ipython3",
   "version": "3.9.6"
  },
  "orig_nbformat": 4
 },
 "nbformat": 4,
 "nbformat_minor": 2
}
