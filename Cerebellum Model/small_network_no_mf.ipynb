{
 "cells": [
  {
   "cell_type": "code",
   "execution_count": 1,
   "metadata": {},
   "outputs": [],
   "source": [
    "import multiprocessing\n",
    "from functools import reduce\n",
    "import operator\n",
    "import random\n",
    "import h5py\n",
    "\n",
    "import numpy as np\n",
    "import matplotlib.pyplot as plt\n",
    "from neuron import h\n",
    "\n",
    "%load_ext autoreload\n",
    "%autoreload 2\n",
    "\n",
    "from GrC import GrC\n",
    "from Golgi import Golgi\n",
    "from utils import export_data\n",
    "\n",
    "# Random generator\n",
    "local_random = np.random.default_rng(123)\n",
    "\n",
    "# np.random.seed(42)"
   ]
  },
  {
   "cell_type": "code",
   "execution_count": 2,
   "metadata": {},
   "outputs": [
    {
     "name": "stdout",
     "output_type": "stream",
     "text": [
      "\n",
      "5394 lines read\n",
      "\n",
      "5456 lines read\n",
      "\n",
      "morphology/pair-140514-C2-1_split_2.asc problems\n",
      "\n",
      "\n",
      "Main branch starting at line 58 is outside the soma bounding boxes\n",
      "  Making a logical connection to center of nearest soma\n",
      "\n",
      "Main branch starting at line 2375 is outside the soma bounding boxes\n",
      "  Making a logical connection to center of nearest soma\n",
      "\n",
      "103 lines read\n",
      "\n",
      "103 lines read\n",
      "\n",
      "103 lines read\n",
      "\n",
      "103 lines read\n",
      "\n",
      "103 lines read\n",
      "\n",
      "103 lines read\n",
      "\n",
      "103 lines read\n",
      "\n",
      "103 lines read\n",
      "\n",
      "103 lines read\n",
      "\n",
      "103 lines read\n"
     ]
    }
   ],
   "source": [
    "# Instantiation of the cell templates\n",
    "\n",
    "golgi_cells = [[Golgi(i, morpho) for i in range(count)] for morpho, count in (\n",
    "    (1, 1),  # morpho 1\n",
    "    (2, 1),  # morpho 2\n",
    " )]\n",
    "\n",
    "golgi_cells = reduce(operator.concat, golgi_cells)\n",
    "random.shuffle(golgi_cells)\n",
    "golgi_cells = golgi_cells[:2]\n",
    "\n",
    "grc_cells = [[GrC(i, subtype) for i in range(count)] for subtype, count in (\n",
    "    (\"regular\", 2), # 20%\n",
    "    (\"mild\", 3), # 30%\n",
    "    (\"adapting\", 4), # 40%\n",
    "    (\"accelerate\", 1), # 10%\n",
    ")]\n",
    "\n",
    "grc_cells = reduce(operator.concat, grc_cells)\n",
    "random.shuffle(grc_cells)\n",
    "grc_cells = grc_cells[:2]\n",
    "\n",
    "ascending_axons = sum((grc_cell.HD_aa for grc_cell in grc_cells), [])\n",
    "parallel_fibers = sum((grc_cell.HD_pf for grc_cell in grc_cells), [])\n"
   ]
  },
  {
   "cell_type": "code",
   "execution_count": 3,
   "metadata": {},
   "outputs": [],
   "source": [
    "# Fixed time step only\n",
    "time_step = h.CVode()\n",
    "time_step.active(0)  # 0 fixed step, 1 variable time step\n",
    "\n",
    "# Activate the multisplit to use half of cores available (with a max of 8)\n",
    "cpu = multiprocessing.cpu_count() // 2\n",
    "h.load_file(\"parcom.hoc\")\n",
    "p = h.ParallelComputeTool()\n",
    "p.change_nthread(min(8, cpu), 1)\n",
    "p.multisplit(1)\n",
    "\n",
    "# simulation parameters\n",
    " \n",
    "h.dt = 0.025    # change in time between steps (ms)\n",
    "h.celsius = 32  # temperature of the neurons (*C)\n",
    "h.v_init = -65  # initial membrane potential (mV)\n",
    "h.tstop = 1000 # duration of simulation (ms)\n",
    "\n",
    "# create hoc vectors\n",
    "\n",
    "t = h.Vector()\n",
    "t.record(h._ref_t)\n",
    "\n",
    "# Impedance class for input resistance \n",
    "input_resis = h.Impedance()\n"
   ]
  },
  {
   "cell_type": "code",
   "execution_count": 4,
   "metadata": {},
   "outputs": [],
   "source": [
    "start_time = 100 # when current injection starts\n",
    "stop_time = 1000 # duration\n",
    "freq = 100\n",
    "amp = 0.001  \n",
    "\n",
    "isi = 1000/freq # inter-spike interval\n",
    "spike_times = [] # array for spike times\n",
    "for spike in range(5):\n",
    "    spike_times.append(start_time + spike * isi) # for loop will create an array of spike times equal to the frequency and time frame hard coded above\n",
    "\n",
    "stims_array = [] # list for iClamp\n",
    "stim_rec_array = [] # list for current from iCLamp\n",
    "vs_array = [] # list for play method\n",
    "\n",
    "golgi_input_resis_array = [] # list for golgi cell input resistance\n",
    "grc_input_resis_array = [] # list for grc cell input resistance\n",
    "\n",
    "golgi_ncs_array = [] # list for golgi netcons\n",
    "grc_ncs_array = [] # list for grc netcons\n",
    "\n",
    "golgi_fr_array = [] # list for # of times a golgi cell spiked to determine firing rate\n",
    "grc_fr_array = [] # list for # of times a grc cell spiked to determine firing rate\n",
    "\n",
    "max_golgi_v_array = [] # list for golgi cell max voltage\n",
    "min_golgi_v_array = [] # list for golgi cell min voltage\n",
    "max_grc_v_array = [] # list for grc cell max voltage\n",
    "min_grc_v_array = [] # list for grc cell min voltage\n",
    "\n",
    "# dict of stim data to be sent for syn stims\n",
    "stim_data_pf = {'delay': start_time, 'duration': stop_time, 'amp': amp, 'spike_times': spike_times}\n",
    "stim_data_mf = {'delay': start_time, 'duration': stop_time, 'amp': amp, 'spike_times': spike_times}\n",
    "stim_data_aa = {'delay': start_time, 'duration': stop_time, 'amp': amp, 'spike_times': spike_times}\n"
   ]
  },
  {
   "cell_type": "code",
   "execution_count": 5,
   "metadata": {},
   "outputs": [],
   "source": [
    "def create_syn_stim(cell, synapses, synapse_data_mf, spike_times):\n",
    "\n",
    "    \"\"\"\n",
    "    Generates single pulse current to soma of cell. \n",
    "\n",
    "    delay: time after amp is injected\n",
    "    dur: duration of amp injection\n",
    "    amp: amount of amp injected\n",
    "    \"\"\"\n",
    "\n",
    "    # ask if it makes sense to have iclamp to soma instead of dendrite\n",
    "    stim = h.IClamp(cell.soma[0](0.5)) # iclamp to soma of cell\n",
    "    stim.delay = synapse_data_mf['delay']\n",
    "    stim.dur = synapse_data_mf['duration']\n",
    "    stim.amp = synapse_data_mf['amp']\n",
    "    stims_array.append(stim)\n",
    "\n",
    "    # recording of current from iclamp\n",
    "    stim_i_rec = h.Vector()\n",
    "    stim_rec_array.append(stim_i_rec.record(stim._ref_i))\n",
    "\n",
    "    # saving mossy fiber stim synapse to netcon lists\n",
    "    if type(synapses) == type(grc_cells):\n",
    "        grc_ncs_array.extend(h.NetCon(stim, syn.input, 0, 0.1, 1) for syn in synapses)\n",
    "        \n",
    "    else:\n",
    "        golgi_ncs_array.extend(h.NetCon(stim, syn.input, 0, 0.1, 1) for syn in synapses)   \n",
    "\n",
    "    # play method for sending stim to cell using array of spike times\n",
    "    vs = h.Vector() \n",
    "    vs_array.append(vs.play(stim.amp, spike_times))    \n"
   ]
  },
  {
   "cell_type": "code",
   "execution_count": 6,
   "metadata": {},
   "outputs": [],
   "source": [
    "for j, grc_cell in enumerate(grc_cells):\n",
    "    \n",
    "    # number of AMPA syn, NMDA syn, GABA syn, dend number from indices\n",
    "    # grc cells connect to 4 different glomeri and synapse\n",
    "    grc_cell.createsyn(4, 4, 3, [0, 1, 2, 3]) # 4 dendritic comparts (0-3)\n",
    "    \n",
    "    # mossy fiber connection\n",
    "    create_syn_stim(grc_cell, grc_cell.MF_GrC_AMPA + grc_cell.MF_GrC_NMDA_B, stim_data_mf, spike_times)\n",
    "\n",
    "    # golgi cell connection \n",
    "    for i, golgi_cell in enumerate(golgi_cells):\n",
    "        grc = grc_cell.dend[:]\n",
    "        sections = [grc[random.randrange(len(grc))] for _ in grc] \n",
    "        grc_ncs_array.extend(h.NetCon(sec(0.5)._ref_v, syn.input, 0, 0.1, 1, sec=sec) \n",
    "                    for syn, sec in zip(grc_cell.GoC_GrC_GABA, sections))\n",
    "\n",
    "    # impedance class keeps providing thread error\n",
    "    input_resis_vec = h.Vector()\n",
    "    # input_resis.loc(grc_cell.soma[0](0.5)) # location of where input resis will be measured\n",
    "    # input_resis.input(grc_cell.soma[0](0.5)) # calculates value of input resistance (Megaohms)\n",
    "    # input_resis_array.append(input_resis_vec.record(input_resis.transfer)) # store values of input_resis in array\n",
    "\n",
    "    grc_fr_array.append(len(np.array(grc_cell.spike_time_vec))) # store number of times fired \n",
    "        \n",
    "for j, golgi_cell in enumerate(golgi_cells):\n",
    "\n",
    "    # number of AMPA syn, NMDA syn, dend number from 0 to 3\n",
    "\n",
    "    # Create the synapses (max used in the paper: 89, 20, 20)\n",
    "    # Not included: inhibitory synapses (up to 20 in the paper)\n",
    "\n",
    "    # 1 Parallel Fiber reaches 8 Golgi cells, each one synapses ~3 times onto a Golgi cell, 400 Parallel Fibers connect to a single Golgi cell\n",
    "\n",
    "    # 1 Ascending Axon reaches 23 Golgi cells, each one synapses ~1 times onto a Golgi cell. About 400 ascending axons synapse onto a golgi cell\n",
    "\n",
    "    # 1 golgi cell reaches 40 mossy fibers, each one synapses ~1 time onto a golgi cell, one golgi cell recieves input \n",
    "    # from 40 different mossy fibers\n",
    "\n",
    "    golgi_cell.createsyn(mf_n=40, \n",
    "                         pf_n=len(grc_cells)*3,\n",
    "                         aa_n=len(ascending_axons))\n",
    "    \n",
    "    # No Mossy Fiber Connection to Golgi\n",
    "\n",
    "    # Parallel Fiber Connections\n",
    "    for i, grc_cell in enumerate(grc_cells):\n",
    "        pf_i = random.randrange(0, len(grc_cell.HD_pf))\n",
    "        pf = grc_cell.HD_pf[pf_i]\n",
    "        sections = [pf[random.randrange(len(pf))] for _ in golgi_cell.L_PF] \n",
    "        golgi_ncs_array.extend(h.NetCon(sec(0.5)._ref_v, syn.input, 0, 0.1, 1, sec=sec)\n",
    "                   for syn, sec in zip(golgi_cell.L_PF, sections))\n",
    "        golgi_ncs_array.extend(h.NetCon(sec(0.5)._ref_v, syn.input, 0, 0.1, 1, sec=sec)\n",
    "                   for syn, sec in zip(golgi_cell.L_PF_NMDA, sections))\n",
    "\n",
    "    # Ascending Axons Connections\n",
    "    for i, grc_cell in enumerate(grc_cells):\n",
    "        n = len(grc_cell.HD_aa)\n",
    "        locations = np.random.normal(n/2, 2, len(golgi_cell.L_AA)).round().astype(int).clip(0, n-1)\n",
    "        sections = [grc_cell.HD_aa[loc] for loc in locations]\n",
    "        golgi_ncs_array.extend(h.NetCon(sec(0.5)._ref_v, syn.input, 0, 0.1, 1, sec=sec)\n",
    "                   for syn, sec in zip(golgi_cell.L_AA, sections))\n",
    "        golgi_ncs_array.extend(h.NetCon(sec(0.5)._ref_v, syn.input, 0, 0.1, 1, sec=sec)\n",
    "                   for syn, sec in zip(golgi_cell.L_AA_NMDA_B, sections))\n",
    "\n",
    "    # impedance class keeps providing thread error\n",
    "    input_resis_vec = h.Vector()\n",
    "    # input_resis.loc(golgi_cell.soma[0](0.5)) # location of where input resis will be measured\n",
    "    # input_resis.input(golgi_cell.soma[0](0.5)) # calculates value of input resistance (Megaohms)\n",
    "    # input_resis_array.append(input_resis_vec.record(input_resis.transfer)) # store values of input_resis in array\n",
    "\n",
    "    golgi_fr_array.append(len(np.array(golgi_cell.spike_time_vec))) # store number of times fired\n"
   ]
  },
  {
   "cell_type": "code",
   "execution_count": 7,
   "metadata": {},
   "outputs": [
    {
     "data": {
      "text/plain": [
       "0.0"
      ]
     },
     "execution_count": 7,
     "metadata": {},
     "output_type": "execute_result"
    }
   ],
   "source": [
    "# run simulation\n",
    "h.run()"
   ]
  },
  {
   "cell_type": "code",
   "execution_count": 8,
   "metadata": {},
   "outputs": [
    {
     "data": {
      "text/plain": [
       "12"
      ]
     },
     "execution_count": 8,
     "metadata": {},
     "output_type": "execute_result"
    }
   ],
   "source": [
    "len(np.array(golgi_cell.spike_time_vec))"
   ]
  },
  {
   "cell_type": "code",
   "execution_count": 9,
   "metadata": {},
   "outputs": [
    {
     "data": {
      "image/png": "[encoded data removed]",
      "text/plain": [
       "<Figure size 720x576 with 2 Axes>"
      ]
     },
     "metadata": {
      "needs_background": "light"
     },
     "output_type": "display_data"
    },
    {
     "data": {
      "text/plain": [
       "<Figure size 432x288 with 0 Axes>"
      ]
     },
     "metadata": {},
     "output_type": "display_data"
    }
   ],
   "source": [
    "# plot traces of grc cells\n",
    "plt.rcParams.update({'font.size': 15})\n",
    "fig, axes = plt.subplots(1, 2, figsize = (10, 8))\n",
    "\n",
    "for j, grc_cell in enumerate(grc_cells):\n",
    "    plt.subplot(len(grc_cells), 2, j + 1)\n",
    "    plt.plot(t, grc_cell.vm, label=str(grc_cell))\n",
    "    plt.title(f\"{grc_cell}\")\n",
    "    plt.xlabel(\"time (ms)\")\n",
    "    plt.ylabel(\"membrane voltage (mv)\")\n",
    "\n",
    "    max_grc_v_array.append(np.max(np.array(grc_cell.vm)))\n",
    "    min_grc_v_array.append(np.min(np.array(grc_cell.vm)))\n",
    "\n",
    "plt.tight_layout()\n",
    "plt.show()\n",
    "plt.savefig('sm_network_grc_cells.svg', dpi = 300, facecolor='white', transparent=True)"
   ]
  },
  {
   "cell_type": "code",
   "execution_count": 10,
   "metadata": {},
   "outputs": [
    {
     "data": {
      "image/png": "[encoded data removed]",
      "text/plain": [
       "<Figure size 720x576 with 2 Axes>"
      ]
     },
     "metadata": {
      "needs_background": "light"
     },
     "output_type": "display_data"
    },
    {
     "data": {
      "text/plain": [
       "<Figure size 432x288 with 0 Axes>"
      ]
     },
     "metadata": {},
     "output_type": "display_data"
    }
   ],
   "source": [
    "# plot traces of golgi cells\n",
    "plt.rcParams.update({'font.size': 15})\n",
    "fig, axes = plt.subplots(1, 2, figsize = (10, 8))\n",
    "\n",
    "for j, golgi_cell in enumerate(golgi_cells):\n",
    "    plt.subplot(len(golgi_cells), 2, j + 1)\n",
    "    plt.plot(t, golgi_cell.vm, label=str(golgi_cell))\n",
    "    plt.title(f\"{golgi_cell}\")\n",
    "    plt.xlabel(\"time (ms)\")\n",
    "    plt.ylabel(\"membrane voltage (mv)\")\n",
    "\n",
    "    max_golgi_v_array.append(np.max(np.array(golgi_cell.vm)))\n",
    "    min_golgi_v_array.append(np.min(np.array(golgi_cell.vm)))\n",
    "\n",
    "plt.tight_layout()\n",
    "plt.show()\n",
    "plt.savefig('sm_network_golgi_cells.svg', dpi = 300, facecolor='white', transparent=True)"
   ]
  },
  {
   "cell_type": "code",
   "execution_count": 11,
   "metadata": {},
   "outputs": [],
   "source": [
    "# discuss with bush if it makes sense to save these variables that wont work with hdf5 and if they do, how can they be modified to be saved under hdf5\n",
    "\n",
    "sim_dict = {'data': {'time_array': t,\n",
    "                     'stim_rec_array': stim_rec_array,\n",
    "                    #  'stims_array': stims_array,\n",
    "                    #  'golgi_input_resis_array': golgi_input_resis_array,\n",
    "                    #  'grc_input_resis_array': golgi_input_resis_array,\n",
    "                     'golgi_fr_array': golgi_fr_array,\n",
    "                     'grc_fr_array': grc_fr_array,      \n",
    "                    #  'golgi_ncs_array': golgi_ncs_array,\n",
    "                    #  'grc_ncs_array': grc_ncs_array,\n",
    "                     'max_golgi_v_array': max_golgi_v_array,\n",
    "                     'min_golgi_v_array': min_golgi_v_array,\n",
    "                     'max_grc_v_array': max_golgi_v_array,\n",
    "                     'min_golgi_v_array': min_golgi_v_array},\n",
    "            'metadata': {#'grc_cells': grc_cells, \n",
    "                         #'golgi_cells': golgi_cells, \n",
    "                         #'ascending_axons': ascending_axons,\n",
    "                         #'parallel_fibers': parallel_fibers,\n",
    "                         'amp': amp,\n",
    "                         'freq': freq,\n",
    "                         'start_time': start_time,\n",
    "                         'stop_time': stop_time,\n",
    "                         'spike_times': spike_times},\n",
    "                        #  'synapse_data_pf': stim_data_pf,\n",
    "                        #  'synapse_data_mf': stim_data_mf,\n",
    "                        #  'synapse_data_aa': stim_data_aa},\n",
    "            'parameters': {'time_steps': h.dt,\n",
    "                           'temp': h.celsius,\n",
    "                           'v_init': h.v_init,\n",
    "                           'duration': h.tstop}}"
   ]
  },
  {
   "cell_type": "code",
   "execution_count": 12,
   "metadata": {},
   "outputs": [
    {
     "name": "stdout",
     "output_type": "stream",
     "text": [
      "<HDF5 group \"/sm_network_no_mf\" (0 members)>\n",
      "<HDF5 dataset \"time_array\": shape (40001,), type \"<f8\">\n",
      "<HDF5 dataset \"stim_rec_array\": shape (2, 40001), type \"<f8\">\n",
      "<HDF5 dataset \"golgi_fr_array\": shape (2,), type \"<i8\">\n",
      "<HDF5 dataset \"grc_fr_array\": shape (2,), type \"<i8\">\n",
      "<HDF5 dataset \"max_golgi_v_array\": shape (2,), type \"<f8\">\n",
      "<HDF5 dataset \"min_golgi_v_array\": shape (2,), type \"<f8\">\n",
      "<HDF5 dataset \"max_grc_v_array\": shape (2,), type \"<f8\">\n",
      "<HDF5 group \"/sm_network_no_mf\" (1 members)>\n",
      "<HDF5 dataset \"amp\": shape (), type \"<f8\">\n",
      "<HDF5 dataset \"freq\": shape (), type \"<i8\">\n",
      "<HDF5 dataset \"start_time\": shape (), type \"<i8\">\n",
      "<HDF5 dataset \"stop_time\": shape (), type \"<i8\">\n",
      "<HDF5 dataset \"spike_times\": shape (5,), type \"<f8\">\n",
      "<HDF5 group \"/sm_network_no_mf\" (2 members)>\n",
      "<HDF5 dataset \"time_steps\": shape (), type \"<f8\">\n",
      "<HDF5 dataset \"temp\": shape (), type \"<f8\">\n",
      "<HDF5 dataset \"v_init\": shape (), type \"<f8\">\n",
      "<HDF5 dataset \"duration\": shape (), type \"<f8\">\n"
     ]
    }
   ],
   "source": [
    "# export data using hdf5 utils function to import into generate figures\n",
    "file_path = 'data/sim_history.hdf5'\n",
    "model_name = 'sm_network_no_mf'\n",
    "export_data(sim_dict, model_name, file_path) "
   ]
  },
  {
   "cell_type": "code",
   "execution_count": null,
   "metadata": {},
   "outputs": [],
   "source": []
  }
 ],
 "metadata": {
  "interpreter": {
   "hash": "aee8b7b246df8f9039afb4144a1f6fd8d2ca17a180786b69acc140d282b71a49"
  },
  "kernelspec": {
   "display_name": "Python 3.9.6 64-bit",
   "name": "python3"
  },
  "language_info": {
   "codemirror_mode": {
    "name": "ipython",
    "version": 3
   },
   "file_extension": ".py",
   "mimetype": "text/x-python",
   "name": "python",
   "nbconvert_exporter": "python",
   "pygments_lexer": "ipython3",
   "version": "3.9.6"
  },
  "orig_nbformat": 4
 },
 "nbformat": 4,
 "nbformat_minor": 2
}
