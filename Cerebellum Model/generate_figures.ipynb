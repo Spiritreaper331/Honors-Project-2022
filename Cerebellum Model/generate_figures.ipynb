{
 "cells": [
  {
   "cell_type": "code",
   "execution_count": null,
   "metadata": {},
   "outputs": [],
   "source": [
    "import numpy as np\n",
    "import matplotlib.pyplot as plt\n",
    "import h5py\n",
    "import seaborn as sns\n",
    "import matplotlib.gridspec as gs\n",
    "from utils import import_data\n",
    "\n",
    "np.random.seed(42)"
   ]
  },
  {
   "cell_type": "code",
   "execution_count": null,
   "metadata": {},
   "outputs": [],
   "source": [
    "model_list = []\n",
    "\n",
    "file_name = 'data/sim_history.hdf5'\n",
    "sim_dict = import_data(file_name)\n",
    "sim_dict.keys()"
   ]
  },
  {
   "cell_type": "code",
   "execution_count": null,
   "metadata": {},
   "outputs": [],
   "source": [
    "for key in sim_dict:\n",
    "    model_list.append(sim_dict[key])"
   ]
  },
  {
   "cell_type": "code",
   "execution_count": null,
   "metadata": {},
   "outputs": [],
   "source": [
    "# plot max voltage for each golgi cell model\n",
    "\n",
    "plt.rcParams.update({'font.size': 15})\n",
    "fig, axes = plt.subplots(1, 2, figsize = (10, 8))\n",
    "\n",
    "for j, model in model_list:\n",
    "    plt.subplot(len(model_list), 2, j + 1)\n",
    "    plt.plot(np.mean(sim_dict[model]['max_golgi_v_array'][:]), label= \"max voltage\")\n",
    "    plt.title(\"Mean Voltage\")\n",
    "    plt.xlabel(model)\n",
    "    plt.ylabel(\"Membrane Voltage (mV)\")\n",
    "\n",
    "plt.tight_layout()\n",
    "plt.show()\n",
    "plt.savefig('max_golgi_v_plots.svg', dpi = 300, facecolor='white', transparent=True)"
   ]
  },
  {
   "cell_type": "code",
   "execution_count": null,
   "metadata": {},
   "outputs": [],
   "source": [
    "# plot max voltage for each golgi cell model\n",
    "\n",
    "plt.rcParams.update({'font.size': 15})\n",
    "fig, axes = plt.subplots(1, 2, figsize = (10, 8))\n",
    "\n",
    "for j, model in model_list:\n",
    "    plt.subplot(len(model_list), 2, j + 1)\n",
    "    plt.plot(np.mean(sim_dict[model]['max_grc_v_array'][:]), label= \"max voltage\")\n",
    "    plt.title(\"Mean Voltage\")\n",
    "    plt.xlabel(model)\n",
    "    plt.ylabel(\"Membrane Voltage (mV)\")\n",
    "\n",
    "plt.tight_layout()\n",
    "plt.show()\n",
    "plt.savefig('max_grc_v_plots.svg', dpi = 300, facecolor='white', transparent=True)"
   ]
  },
  {
   "cell_type": "code",
   "execution_count": null,
   "metadata": {},
   "outputs": [],
   "source": [
    "# plot input resistance for each model\n",
    "\n",
    "plt.rcParams.update({'font.size': 15})\n",
    "fig, axes = plt.subplots(1, 2, figsize = (10, 8))\n",
    "\n",
    "for j, model in model_list:\n",
    "    plt.subplot(len(model_list), 2, j + 1)\n",
    "    plt.plot(np.mean(sim_dict[model]['input_resis_array'][:]), label= \"input resistance\")\n",
    "    plt.title(\"Mean Input Resistance\")\n",
    "    plt.xlabel(model)\n",
    "    plt.ylabel(\"Megaohms + r'($\\ohm$)'\")\n",
    "\n",
    "plt.tight_layout()\n",
    "plt.show()\n",
    "plt.savefig('input_resis_plots.svg', dpi = 300, facecolor='white', transparent=True)"
   ]
  },
  {
   "cell_type": "code",
   "execution_count": null,
   "metadata": {},
   "outputs": [],
   "source": [
    "# plot firing rate of golgi cells for each model\n",
    "\n",
    "plt.rcParams.update({'font.size': 15})\n",
    "fig, axes = plt.subplots(1, 2, figsize = (10, 8))\n",
    "\n",
    "for j, model in model_list:\n",
    "    plt.subplot(len(model_list), 2, j + 1)\n",
    "    plt.plot(np.mean(sim_dict[model]['golgi_spike_t_array'][:] / sim_dict[model]['stop_time']), label= \"firing rate\")\n",
    "    plt.title(\"Mean Firing Rate\")\n",
    "    plt.xlabel(model)\n",
    "    plt.ylabel(\"Firing Rate (Hz)\")\n",
    "\n",
    "plt.tight_layout()\n",
    "plt.show()\n",
    "plt.savefig('golgi_fr_plots.svg', dpi = 300, facecolor='white', transparent=True)"
   ]
  },
  {
   "cell_type": "code",
   "execution_count": null,
   "metadata": {},
   "outputs": [],
   "source": [
    "# plot firing rate of grc cells for each model\n",
    "\n",
    "plt.rcParams.update({'font.size': 15})\n",
    "fig, axes = plt.subplots(1, 2, figsize = (10, 8))\n",
    "\n",
    "for j, model in model_list:\n",
    "    plt.subplot(len(model_list), 2, j + 1)\n",
    "    plt.plot(np.mean(sim_dict[model]['grc_spike_t_array'][:] / sim_dict[model]['stop_time']), label= \"firing rate\")\n",
    "    plt.title(\"Mean Firing Rate\")\n",
    "    plt.xlabel(model)\n",
    "    plt.ylabel(\"Firing Rate (Hz)\")\n",
    "\n",
    "plt.tight_layout()\n",
    "plt.show()\n",
    "plt.savefig('grc_fr_plots.svg', dpi = 300, facecolor='white', transparent=True)"
   ]
  }
 ],
 "metadata": {
  "interpreter": {
   "hash": "aee8b7b246df8f9039afb4144a1f6fd8d2ca17a180786b69acc140d282b71a49"
  },
  "kernelspec": {
   "display_name": "Python 3.9.6 64-bit",
   "language": "python",
   "name": "python3"
  },
  "language_info": {
   "name": "python",
   "version": "3.9.6"
  },
  "orig_nbformat": 4
 },
 "nbformat": 4,
 "nbformat_minor": 2
}
